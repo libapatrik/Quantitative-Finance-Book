{
 "cells": [
  {
   "metadata": {},
   "cell_type": "markdown",
   "source": "# Greeks, Hedging and Visualizations",
   "id": "9d9825223d19e6bd"
  },
  {
   "metadata": {},
   "cell_type": "markdown",
   "source": [
    "#### Key questions:\n",
    "- How can we compute and visualize option Greeks (Delta, Gamma, Theta, Vega, Rho)?\n",
    "- How can we use COS method for Greeks calculation?\n",
    "- Can we compare COS vs. FD methods for Greeks?\n",
    "- Can we do this in C++ for performance? [and use the C++'s calculation in Python?]\n",
    "\n",
    "\n",
    "TODO:\n",
    "- Get COS and FD in CPP\n",
    "- Use both to calculate Greeks\n",
    "- Import those calculations into Python and compare by visualizations\n"
   ],
   "id": "c5cb5292a3582a18"
  },
  {
   "metadata": {
    "ExecuteTime": {
     "end_time": "2025-09-07T13:29:32.900348Z",
     "start_time": "2025-09-07T13:29:32.898467Z"
    }
   },
   "cell_type": "code",
   "source": [
    "import numpy as np\n",
    "import matplotlib.pyplot as plt\n",
    "import pandas as pd\n",
    "from scipy.stats import norm\n",
    "\n",
    "import ipywidgets as widgets\n",
    "from ipywidgets import interactive"
   ],
   "id": "76ac7645dfe5ca0d",
   "outputs": [],
   "execution_count": 68
  },
  {
   "metadata": {},
   "cell_type": "markdown",
   "source": "## Black-Scholes Greeks Calculation and Visualization",
   "id": "84e4f224e4de2582"
  },
  {
   "metadata": {},
   "cell_type": "markdown",
   "source": [
    "e First we need to define the Greeks formulas for Black-Scholes model:\n",
    "- $\\Delta = \\displaystyle \\frac{\\partial C}{\\partial S}$\n",
    "    - $\\displaystyle \\Delta_{\\text{call}} = \\Phi(\\mathrm{d}1)$\n",
    "    - $\\displaystyle \\Delta_{\\text{put}} = -\\Phi(-d1)$\n",
    "\n",
    "\n",
    "- $\\Gamma = \\\\mathrm{d}isplaystyle \\frac{\\partial^2 C}{\\partial S^2}$\n",
    "    - $\\displaystyle \\Gamma_{\\text{call}} = \\frac{\\phi(\\mathrm{d}1)}{S\\sigma \\sqrt{T}} = \\Gamma_{\\text{put}}$\n",
    "\n",
    "\n",
    "- $\\nu = \\displaystyle \\frac{\\partial C}{\\partial \\sigma}$\n",
    "    - $\\displaystyle \\nu_{\\text{call}} = S \\phi(\\mathrm{d}1)\\sqrt{T} = \\nu_{\\text{put}}$\n",
    "\n",
    "\n",
    "- $\\Theta = -\\displaystyle \\frac{\\partial C}{\\partial \\tau}$, where $\\tau = T-t$ time to maturity.\n",
    "    - $\\displaystyle \\Theta_{\\text{call}} = -\\frac{S\\phi(\\mathrm{d}1)\\sigma}{2\\tau} - rK \\exp{(-rT)}\\Phi(\\mathrm{d}2)$\n",
    "    - $\\displaystyle \\Theta_{\\text{put}} = -\\frac{S\\phi(\\mathrm{d}1)\\sigma}{2\\tau} + rK \\exp{(-rT)}\\Phi(-\\mathrm{d}2)$\n",
    "\n",
    "\n",
    "- $\\rho = \\displaystyle \\frac{\\partial C}{\\partial r}$\n",
    "    - $\\displaystyle \\rho_{\\text{call}} = K\\tau \\exp{(-rT)}\\Phi(\\mathrm{d}2)$\n",
    "    - $\\displaystyle \\rho_{\\text{put}} = -K\\tau \\exp{(-rT)}\\Phi(-\\mathrm{d}2)$"
   ],
   "id": "c5fc5fe287265896"
  },
  {
   "metadata": {
    "ExecuteTime": {
     "end_time": "2025-09-07T13:30:35.315842Z",
     "start_time": "2025-09-07T13:30:35.311062Z"
    }
   },
   "cell_type": "code",
   "source": [
    "# Black-Scholes pricing function for a European Call option\n",
    "def bsPricer(S, K, T, r, sigma, type='call'):\n",
    "    if type == 'call':\n",
    "        d1 = (np.log(S / K) + (r + 0.5 * sigma ** 2) * T) / (sigma * np.sqrt(T))\n",
    "        d2 = d1 - sigma * np.sqrt(T)\n",
    "        price = S * norm.cdf(d1) - K * np.exp(-r * T) * norm.cdf(d2)\n",
    "        delta = norm.cdf(d1)  # Delta of the call option\n",
    "        gamma = norm.pdf(d1, 0, 1) / (S * sigma * np.sqrt(T))\n",
    "        vega = S * norm.pdf(d1, 0, 1) * np.sqrt(T)\n",
    "        theta = -S * norm.pdf(d1, 0, 1) * sigma/ (2 * np.sqrt(T)) - r * K * np.exp(-r * T) * norm.cdf(d2, 0, 1)\n",
    "        rho = K * T * np.exp(-r * T) * norm.cdf(d2, 0, 1)\n",
    "\n",
    "    elif type == 'put':\n",
    "        d1 = (np.log(S / K) + (r + 0.5 * sigma ** 2) * T) / (sigma * np.sqrt(T))\n",
    "        d2 = d1 - sigma * np.sqrt(T)\n",
    "        price = K * np.exp(-r * T) * norm.cdf(-d2) - S * norm.cdf(-d1)\n",
    "        delta = -norm.cdf(-d1)\n",
    "        gamma = norm.pdf(d1, 0, 1) / (S * sigma * np.sqrt(T))\n",
    "        vega = S * norm.pdf(d1, 0, 1) * np.sqrt(T)\n",
    "        theta = -S * norm.pdf(d1, 0, 1) * sigma/ (2 * np.sqrt(T)) + r * K * np.exp(-r * T) * norm.cdf(-d2, 0, 1)\n",
    "        rho = -K * T * np.exp(-r * T) * norm.cdf(-d2, 0, 1)\n",
    "    return price, delta, gamma*0.01, vega*0.01, theta/365, rho*0.01\n"
   ],
   "id": "f881ae7175e2afe5",
   "outputs": [],
   "execution_count": 76
  },
  {
   "metadata": {
    "ExecuteTime": {
     "end_time": "2025-09-07T14:34:10.568387Z",
     "start_time": "2025-09-07T14:34:10.560852Z"
    }
   },
   "cell_type": "code",
   "source": [
    "# Test\n",
    "# Define variables\n",
    "r = 0.01\n",
    "S = 30\n",
    "K = 40\n",
    "T = 240/365\n",
    "sigma = 0.30\n",
    "type = 'put'  # 'call' or 'put'\n",
    "\n",
    "# Calculate option price and Greeks\n",
    "result = bsPricer(S, K, T, r, sigma, type)\n",
    "columns = ['Price', 'Delta', 'Gamma', 'Vega', 'Theta', 'Rho']\n",
    "df = pd.DataFrame([result], columns=columns)\n",
    "df"
   ],
   "id": "77aab0750a01b071",
   "outputs": [
    {
     "data": {
      "text/plain": [
       "       Price     Delta    Gamma      Vega     Theta      Rho\n",
       "0  10.251133 -0.849414  0.00032  0.056867 -0.002575 -0.23496"
      ],
      "text/html": [
       "<div>\n",
       "<style scoped>\n",
       "    .dataframe tbody tr th:only-of-type {\n",
       "        vertical-align: middle;\n",
       "    }\n",
       "\n",
       "    .dataframe tbody tr th {\n",
       "        vertical-align: top;\n",
       "    }\n",
       "\n",
       "    .dataframe thead th {\n",
       "        text-align: right;\n",
       "    }\n",
       "</style>\n",
       "<table border=\"1\" class=\"dataframe\">\n",
       "  <thead>\n",
       "    <tr style=\"text-align: right;\">\n",
       "      <th></th>\n",
       "      <th>Price</th>\n",
       "      <th>Delta</th>\n",
       "      <th>Gamma</th>\n",
       "      <th>Vega</th>\n",
       "      <th>Theta</th>\n",
       "      <th>Rho</th>\n",
       "    </tr>\n",
       "  </thead>\n",
       "  <tbody>\n",
       "    <tr>\n",
       "      <th>0</th>\n",
       "      <td>10.251133</td>\n",
       "      <td>-0.849414</td>\n",
       "      <td>0.00032</td>\n",
       "      <td>0.056867</td>\n",
       "      <td>-0.002575</td>\n",
       "      <td>-0.23496</td>\n",
       "    </tr>\n",
       "  </tbody>\n",
       "</table>\n",
       "</div>"
      ]
     },
     "execution_count": 96,
     "metadata": {},
     "output_type": "execute_result"
    }
   ],
   "execution_count": 96
  },
  {
   "metadata": {
    "ExecuteTime": {
     "end_time": "2025-09-07T14:34:18.663145Z",
     "start_time": "2025-09-07T14:34:18.543596Z"
    }
   },
   "cell_type": "code",
   "source": [
    "# Interactive plot to select which Greek to display alongside option price\n",
    "\n",
    "def update_greek_plot(K=100, T=1, r=0.05, sigma=0.2, type='call', greek='Delta'):\n",
    "    S_range = np.linspace(50, 150, 100)\n",
    "    prices, greeks = [], []\n",
    "    for s in S_range:\n",
    "        price, delta, gamma, vega, theta, rho = bsPricer(s, K, T, r, sigma, type)\n",
    "        prices.append(price)\n",
    "        if greek == 'Delta':\n",
    "            greeks.append(delta)\n",
    "        elif greek == 'Gamma':\n",
    "            greeks.append(gamma)\n",
    "        elif greek == 'Vega':\n",
    "            greeks.append(vega)\n",
    "        elif greek == 'Theta':\n",
    "            greeks.append(theta)\n",
    "        elif greek == 'Rho':\n",
    "            greeks.append(rho)\n",
    "    fig, ax1 = plt.subplots(figsize=(7, 6))\n",
    "    ax2 = ax1.twinx()\n",
    "    ax1.plot(S_range, prices, 'b-', label=f'{type.capitalize()} Price')\n",
    "    ax2.plot(S_range, greeks, 'r-', label=greek)\n",
    "    ax1.axvline(K, color='k', linestyle='--', label='K')\n",
    "    ax1.set_xlabel('Stock Price (S)')\n",
    "    ax1.set_ylabel(f'{type.capitalize()} Price', color='b')\n",
    "    ax2.set_ylabel(greek, color='r')\n",
    "    ax1.tick_params(axis='y', colors='b')\n",
    "    ax2.tick_params(axis='y', colors='r')\n",
    "    ax1.grid()\n",
    "    lines1, labels1 = ax1.get_legend_handles_labels()\n",
    "    lines2, labels2 = ax2.get_legend_handles_labels()\n",
    "    ax1.legend(lines1 + lines2, labels1 + labels2)\n",
    "    plt.title(f'Black-Scholes {type.capitalize()} Option and {greek}')\n",
    "    plt.tight_layout()\n",
    "    plt.show()\n",
    "\n",
    "greek_options = ['Delta', 'Gamma', 'Vega', 'Theta', 'Rho']\n",
    "type_options = ['call', 'put']\n",
    "\n",
    "interactive_greek_plot = interactive(\n",
    "    update_greek_plot,\n",
    "    K=widgets.FloatSlider(min=50, max=150, step=1, value=100, description='K'),\n",
    "    T=widgets.FloatSlider(min=0.1, max=5, step=0.1, value=1, description='T'),\n",
    "    r=widgets.FloatSlider(min=0, max=0.2, step=0.01, value=0.05, description='r'),\n",
    "    sigma=widgets.FloatSlider(min=0.05, max=1, step=0.05, value=0.2, description='sigma'),\n",
    "    type=widgets.Dropdown(options=type_options, value='call', description='Type'),\n",
    "    greek=widgets.Dropdown(options=greek_options, value='Delta', description='Greek')\n",
    ")\n",
    "\n",
    "display(interactive_greek_plot)"
   ],
   "id": "2d40d2cf88701d56",
   "outputs": [
    {
     "data": {
      "text/plain": [
       "interactive(children=(FloatSlider(value=100.0, description='K', max=150.0, min=50.0, step=1.0), FloatSlider(va…"
      ],
      "application/vnd.jupyter.widget-view+json": {
       "version_major": 2,
       "version_minor": 0,
       "model_id": "b5f6214299c24437ac86d23b5a370b3e"
      }
     },
     "metadata": {},
     "output_type": "display_data",
     "jetTransient": {
      "display_id": null
     }
    }
   ],
   "execution_count": 97
  },
  {
   "metadata": {},
   "cell_type": "markdown",
   "source": "## Observations",
   "id": "865a0d7817ddd4e3"
  },
  {
   "metadata": {},
   "cell_type": "code",
   "outputs": [],
   "execution_count": null,
   "source": "",
   "id": "e1cdbca55f8e169f"
  }
 ],
 "metadata": {
  "kernelspec": {
   "display_name": "Python 3",
   "language": "python",
   "name": "python3"
  },
  "language_info": {
   "codemirror_mode": {
    "name": "ipython",
    "version": 2
   },
   "file_extension": ".py",
   "mimetype": "text/x-python",
   "name": "python",
   "nbconvert_exporter": "python",
   "pygments_lexer": "ipython2",
   "version": "2.7.6"
  }
 },
 "nbformat": 4,
 "nbformat_minor": 5
}
