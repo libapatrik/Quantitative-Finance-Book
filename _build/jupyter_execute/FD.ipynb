{
 "cells": [
  {
   "cell_type": "markdown",
   "id": "aaeea54e",
   "metadata": {},
   "source": [
    "# Pricing American Options by Finite Difference \n",
    "\n",
    "- Replicating the Finite Difference implementation in {cite:p}`longstaff2001valuing`.\n",
    "- Replicating the values in Table 1.\n",
    "- Completely replicating the Table 1, as in the paper."
   ]
  },
  {
   "cell_type": "markdown",
   "id": "78250344",
   "metadata": {},
   "source": [
    "### TO DO:\n",
    "- Add the theory/papers\n"
   ]
  },
  {
   "cell_type": "code",
   "execution_count": 1,
   "id": "bf32c8ed",
   "metadata": {
    "tags": [
     "hide-input"
    ]
   },
   "outputs": [],
   "source": [
    "# Import libraries\n",
    "import numpy as np\n",
    "from scipy.stats import norm\n",
    "from scipy.linalg import lu_factor, lu_solve\n",
    "import pandas as pd\n",
    "import matplotlib.pyplot as plt\n",
    "import time\n",
    "\n",
    "#from LSMC import lsmc_american_put, simulate_gbm_paths, laguerre_polynomials\n",
    "#from Gaussian import gaussian_cf, sin_coeff"
   ]
  },
  {
   "cell_type": "code",
   "execution_count": 2,
   "id": "f4fcf3e3",
   "metadata": {},
   "outputs": [],
   "source": [
    "# exact price - Black-Scholes formula\n",
    "def bs_put_price(S0, K, r, sigma, T):\n",
    "    d1 = ( np.log(S0/K) + (r + 0.5*sigma**2) * T ) / (sigma * np.sqrt(T))\n",
    "    d2 = d1 - sigma * np.sqrt(T)\n",
    "    bs_put = -1 * norm.cdf(-d1)*S0 + norm.cdf(-d2)*K*np.exp(-r*T)\n",
    "    return bs_put"
   ]
  },
  {
   "cell_type": "markdown",
   "id": "f2a140d4",
   "metadata": {},
   "source": [
    "- Simulate stock prices under Geometric Brownian Motion\n",
    "\n",
    "- Define Laugerre polynomials\n",
    "\n",
    "- Define LSMC-pricer (as in {cite:p}`longstaff2001valuing`)"
   ]
  },
  {
   "cell_type": "code",
   "execution_count": 3,
   "id": "205a4ad4",
   "metadata": {},
   "outputs": [],
   "source": [
    "# MC paths generator with antithetic sampling\n",
    "def simulate_gbm_paths(S0, r, sigma, T, n_steps, n_paths):\n",
    "    \"\"\" Antithetic: We input 50,000 paths and we get 100,000 paths \"\"\"\n",
    "    np.random.seed(1) \n",
    "    dt = T / n_steps\n",
    "\n",
    "    # Generate randoms for half of n_paths\n",
    "    Z = np.random.randn(n_paths, n_steps)\n",
    "    \n",
    "    # Create vector of paths and antithetic paths\n",
    "    Z_all = np.vstack([Z, -Z])  \n",
    "    \n",
    "    # Initialize paths\n",
    "    n_total = 2 * n_paths\n",
    "    S = np.zeros((n_total, n_steps + 1))\n",
    "    S[:, 0] = S0\n",
    "    \n",
    "    # Simulate paths\n",
    "    for t in range(n_steps):\n",
    "        S[:, t+1] = S[:, t] * np.exp((r - 0.5*sigma**2)*dt + sigma*np.sqrt(dt)*Z_all[:, t])\n",
    "    \n",
    "    return S\n",
    "\n",
    "def laguerre_polynomials(x, K):\n",
    "    \"\"\" Calculate first three Laguerre polynomials\n",
    "    x_scaled as x / K - to account for moneyness \"\"\"\n",
    "    # Scale x \n",
    "    x_scaled = x / K  # Normalize by strike price \n",
    "    \n",
    "    # Calculate e^(-x/2) \n",
    "    exp_term = np.exp(-x_scaled/2)\n",
    "    \n",
    "    # Laguerre polynomials\n",
    "    L0 = exp_term\n",
    "    L1 = exp_term * (1 - x_scaled)\n",
    "    L2 = exp_term * (1 - 2*x_scaled + x_scaled**2/2)\n",
    "    \n",
    "    return L0, L1, L2\n",
    "\n",
    "def lsmc_american_put(S, K, r, T, n_steps):\n",
    "    \"\"\" Least Squares Monte Carlo for American Put Option\n",
    "    Similar approach as in Q1, but now we don't view it as tree/lattice \n",
    "    but a whole random path at different times t; ie more cts\n",
    "    - going backwards in time, ie from terminal time (known payoff) to t=0.\n",
    "    - we use regression to estimate the continuation value \n",
    "    - early exercise decision\n",
    "    \"\"\"\n",
    "    n_paths = S.shape[0]\n",
    "    dt = T / n_steps\n",
    "    df = np.exp(-r * dt)\n",
    "    \n",
    "    # Initialize cash flow matrix\n",
    "    cash_flows = np.zeros((n_paths, n_steps + 1))\n",
    "    \n",
    "    # Terminal payoff\n",
    "    cash_flows[:, -1] = np.maximum(K - S[:, -1], 0)\n",
    "    \n",
    "    # Backward induction\n",
    "    for t in range(n_steps - 1, 0, -1):\n",
    "        # Current payoff if exercised\n",
    "        payoff = np.maximum(K - S[:, t], 0)\n",
    "        \n",
    "        # Find in-the-money paths\n",
    "        itm = payoff > 0 # will use as index for tracking\n",
    "        \n",
    "        if np.sum(itm) > 0:\n",
    "            # Get stock prices for ITM paths\n",
    "            X = S[itm, t]\n",
    "            \n",
    "            # Calculate basis functions according to paper\n",
    "            L0, L1, L2 = laguerre_polynomials(X, K)\n",
    "            \n",
    "            # Data matrix: constant (intercept) + 3 Laguerre polynomials\n",
    "            A = np.column_stack([np.ones_like(X), L0, L1, L2])\n",
    "            \n",
    "            # Calculate discounted future cash flows Y - response variable\n",
    "                # Continuation value we are want to estimate\n",
    "            Y = np.zeros(n_paths) #\n",
    "            for s in range(t+1, n_steps+1):\n",
    "                Y += cash_flows[:, s] * df**(s-t) \n",
    "            Y = Y[itm]\n",
    "            \n",
    "            # Regression to estimate continuation value\n",
    "            beta = np.linalg.lstsq(A, Y)[0] # prediction\n",
    "            #print(beta)\n",
    "            cont_value = A @ beta\n",
    "            #print(cont_value)\n",
    "            \n",
    "            # Exercise decision: exercise if immediate payoff >= continuation value\n",
    "            exercise = payoff[itm] >= cont_value\n",
    "            \n",
    "            # Update cash flows\n",
    "            itm_indices = np.where(itm)[0]\n",
    "            for i, should_exercise in enumerate(exercise):\n",
    "                idx = itm_indices[i]\n",
    "                if should_exercise:\n",
    "                    cash_flows[idx, t] = payoff[idx]\n",
    "                    # Zero out future cash flows\n",
    "                    cash_flows[idx, t+1:] = 0\n",
    "    \n",
    "    # for each path, find time when of exercise and discout it back to t=0\n",
    "    option_values = np.zeros(n_paths)\n",
    "    for i in range(n_paths):\n",
    "        # Find all times when this option has positive cf\n",
    "        exercise_times = np.where(cash_flows[i, :] > 0)[0]\n",
    "\n",
    "        if len(exercise_times) > 0:\n",
    "            t_exercise = exercise_times[0] # per path 1 exercise\n",
    "            option_values[i] = cash_flows[i, t_exercise] * df**t_exercise # dicsouting it to t=0\n",
    "    \n",
    "    # Return mean value (since path dependent) and standard error\n",
    "    mean_value = np.mean(option_values) # option PV \n",
    "    std_error = np.std(option_values) / np.sqrt(n_paths)\n",
    "    \n",
    "    return mean_value, std_error\n"
   ]
  },
  {
   "cell_type": "markdown",
   "id": "9e4e1121",
   "metadata": {},
   "source": [
    "## TO DO:\n",
    "Add more theory! More equations, what exactly do we need to do? What are those operators that you are talking about? \n",
    "\n",
    "- Make sure that you know exactly and correctly what you are doing; avoid fancy stuff without the knowledge = empty."
   ]
  },
  {
   "cell_type": "markdown",
   "id": "4c490bb2",
   "metadata": {},
   "source": [
    "### Finite difference for EU put option\n",
    "Pricing an European put option:\n",
    "- Path dependent case\n",
    "    - Trace whole path each $\\omega$-path\n",
    "    - Feynman-Kac gives us the associated PDE to solve\n",
    "    - To solve the PDE - approximate by Finite Difference\n",
    "    - Moving forwards in time and central in space (FTCS)\n",
    "    - \n",
    "    \n",
    "- Trace the whole lattice (imagine binomial tree) "
   ]
  },
  {
   "cell_type": "code",
   "execution_count": 4,
   "id": "9e8f7cd9",
   "metadata": {},
   "outputs": [],
   "source": [
    "# forward finite difference \n",
    "L = 10 # keeping fixed as was provided by default\n",
    "Nx = 1000\n",
    "Nt = 1000\n",
    "# Numerical instability issues when Nt=1000 or lower; in paper they use Nt=40_000\n",
    "def fd_european_put(S0, K, r, sigma, T, Nx=1000, Nt=40000, L=10):\n",
    "    start = time.perf_counter()\n",
    "    h = L/Nx\n",
    "    k = T/Nt\n",
    "    T1  = np.diag([1]* (Nx-2), 1) - np.diag([1] * (Nx-2), -1)\n",
    "    T2  = -2 * np.diag([1] * (Nx-1)) + np.diag([1]* (Nx-2), 1) + np.diag([1] * (Nx-2), -1)\n",
    "    F = (1 - r*k) * np.diag([1] * (Nx-1))  + 0.5 *k * (sigma**2) /(h**2) * T2 +  k * (r-0.5*(sigma**2))/(2*h) * T1 # European\n",
    "\n",
    "    # Creating (log)m-space\n",
    "    mvec = np.linspace(start = np.log(S0)-L/2 + h, stop = np.log(S0) + L/2 - h, num=Nx-1)\n",
    "    #mvec = np.linspace(start = -L/2 + h, stop = +L/2-h, num=Nx-1)\n",
    "    U = np.zeros((Nx-1, Nt+1))\n",
    "    U[:, 0] = np.maximum(K - np.exp(mvec), 0) # initial condition\n",
    "    # EU-FD pricer -----------\n",
    "    for i in range(Nt):\n",
    "        time2mat = i*k\n",
    "        # BC\n",
    "        p = np.zeros(Nx-1)\n",
    "        # Left BC - as S -> 0, PutVal -> Ke^{-r(T-t)}\n",
    "        p[0] = ( 0.5 *k * (sigma**2) / (h**2) - k * (r-0.5*(sigma**2)) / (2*h) ) * K * np.exp(-r * time2mat)\n",
    "        # Right BC -> PutVal -> 0, no contribution to p; S -> OOM\n",
    "        U[:, i+1] = np.dot(F, U[:, i]) + p\n",
    "        #U[:, i+1] = F @ U[:, i] + p \n",
    "    runtime = time.perf_counter() - start\n",
    "    ftcs_price = np.interp(np.log(S0), mvec, U[:, Nt])\n",
    "    return ftcs_price, runtime\n"
   ]
  },
  {
   "cell_type": "markdown",
   "id": "9830f437",
   "metadata": {},
   "source": [
    "### Finite difference for American put option\n",
    "Pricing an America put option:\n",
    "- Path dependent case\n",
    "    - Trace whole path each $\\omega$-path\n",
    "    - Feynman-Kac gives us the associated PDE to solve\n",
    "    - To solve the PDE - approximate by Finite Difference\n",
    "    - Key difference is that we need to move backwards in time, so BTCS.\n",
    "        - Since the payoff at the terminal time is known.\n",
    "    - \n",
    "    \n",
    "- Trace the whole lattice (imagine binomial tree) "
   ]
  },
  {
   "cell_type": "code",
   "execution_count": 5,
   "id": "1586f406",
   "metadata": {},
   "outputs": [],
   "source": [
    "def fd_american_put(S0, K, r, sigma, T, Nx=1000, Nt=40000, L=10):\n",
    "    \"\"\" Fast enough even for Nx=1000, Nt=40_000 \n",
    "    Q: Why does it not match the FD_AM col precisely? \n",
    "    A: Discretisation error? Different interpolation? Paper is from 2001, methods improved.\n",
    "    \"\"\"\n",
    "    start = time.perf_counter()\n",
    "    # Grid parameters\n",
    "    h = L/Nx  # spatial step\n",
    "    k = T/Nt  # time step\n",
    "\n",
    "    # First derivative matrix (centered differences)\n",
    "    # T1 = np.zeros((Nx-1, Nx-1))\n",
    "    # for i in range(1, Nx-2):\n",
    "    #     T1[i, i-1] = -1\n",
    "    #     T1[i, i+1] = 1\n",
    "    # T1 = T1 / (2*h)\n",
    "    #print(T1)\n",
    "    # # Second derivative matrix\n",
    "    # T2 = np.zeros((Nx-1, Nx-1))\n",
    "    # for i in range(1, Nx-2):\n",
    "    #     T2[i, i-1] = 1\n",
    "    #     T2[i, i] = -2\n",
    "    #     T2[i, i+1] = 1\n",
    "    # T2 = T2 / (h**2)\n",
    "    #print(T2)\n",
    "\n",
    "    T1  = np.diag([1]* (Nx-2), 1) - np.diag([1] * (Nx-2), -1)\n",
    "    #print(T1)\n",
    "    T2  = -2 * np.diag([1] * (Nx-1)) + np.diag([1]* (Nx-2), 1) + np.diag([1] * (Nx-2), -1) # 2nd order derivative\n",
    "    #print(T2)\n",
    "\n",
    "    # Grid in log-space \n",
    "    mvec = np.linspace(start = np.log(S0)- L/2 + h, stop = np.log(S0)+ L/2 - h, num=Nx-1) # shift grid by logS0 \n",
    "    stock_prices = np.exp(mvec)\n",
    "\n",
    "    # Matrix for implicit scheme is (I - k*A)\n",
    "    I = np.eye(Nx-1)\n",
    "    A = (0.5 * sigma**2 / h**2) * T2 + ((r - 0.5*sigma**2) / (2*h)) * T1 - r * np.eye(Nx-1)\n",
    "    # M = I - k*A\n",
    "    #M = (1 + r*k)*I - k*0.5*sigma**2*T2 - k*r*T1 + k*0.5*sigma**2*T1 \n",
    "    #   F = (1 - r*k) * np.diag([1] * (Nx-1))  + 0.5 *k * (sigma**2) /(h**2) * T2 +  k * (r-0.5*(sigma**2))/(2*h) * T1\n",
    "    M = (1 + r*k)*I - k*0.5*(sigma**2)/(h**2)*T2 - k*r*T1/(2*h) + k*0.5*(sigma**2)/(2*h)*T1 \n",
    "    #M = np.eye(Nx-1) - k*A # both methods give the same cols results\n",
    "    lu, piv = lu_factor(M) # avoid computing inverse; lu-factorise M-matrix\n",
    "\n",
    "    ## Initialise\n",
    "    # American put value at maturity\n",
    "    V = np.maximum(K - stock_prices, 0) # known payoff\n",
    "    intrinsic_value= V.copy()\n",
    "    # Store values\n",
    "    american_values = np.zeros((Nx-1, Nt+1))\n",
    "    american_values[:, -1] = V\n",
    "    # Boundary conditions S*N(-d2) - Ke^{-rT}*N(-d1)\n",
    "    # At S = 0 (m -> -\\infty), put value is K\n",
    "    # At S -> \\infty (m-> \\infty), put value is 0\n",
    "\n",
    "    # AM-pricer - backward induction with early exercise rule ---------\n",
    "    b = np.empty_like(V)\n",
    "    for n in range(Nt-1, -1, -1):\n",
    "        # Current time (working backward); recall k = T/Nt\n",
    "        t = n * k # start from terminal time\n",
    "        # rhs\n",
    "        b[:] = V\n",
    "        b = V.copy()\n",
    "        # Apply boundary conditions\n",
    "        # Lower boundary: as S->0, American put value -> K; without e^{-rt}\n",
    "        #b[0] += k * (0.5*sigma**2/h**2 - (r-0.5*sigma**2)/(2*h)) * K\n",
    "        b[0] = ( 0.5 *k * (sigma**2) / (h**2) - k * (r-0.5*(sigma**2)) / (2*h) ) * K\n",
    "        # Upper boundary: as S-> \\infty, put value -> 0\n",
    "            # == 0\n",
    "        # Continuation value (if not exercised)\n",
    "        # Solve the linear system: M * V_new = b\n",
    "        #V_new = np.linalg.solve(M, b) # we are computing an inverse, not good. Can we do better?\n",
    "        V_new = lu_solve((lu, piv), b)\n",
    "\n",
    "        # RULE FOR EARLY EXERICISE ---------\n",
    "        # Apply early exercise constraint: V >= max(K - S, 0)\n",
    "        intrinsic_value = np.maximum(K - stock_prices, 0) \n",
    "        V = np.maximum(V_new, intrinsic_value)\n",
    "        \n",
    "        # Store values\n",
    "        american_values[:, n] = V\n",
    "    runtime = time.perf_counter() - start\n",
    "    # Interpolate to get price at S0\n",
    "    american_price = np.interp(np.log(S0), mvec, V)\n",
    "    return american_price, runtime\n"
   ]
  },
  {
   "cell_type": "markdown",
   "id": "678de967",
   "metadata": {},
   "source": [
    "### Define table replicating functions"
   ]
  },
  {
   "cell_type": "code",
   "execution_count": 6,
   "id": "bd18aeca",
   "metadata": {},
   "outputs": [
    {
     "name": "stdout",
     "output_type": "stream",
     "text": [
      "\n",
      "Finite Difference European Put Pricing\n",
      "\n",
      "   S  vol   T |  FD European |  BS European | Difference |    Runtime\n",
      "----------------------------------------------------------------------\n"
     ]
    },
    {
     "name": "stdout",
     "output_type": "stream",
     "text": [
      "  36  0.20   1         3.8445         3.8443     0.000170     4.7482\n"
     ]
    },
    {
     "name": "stdout",
     "output_type": "stream",
     "text": [
      "  36  0.20   2         3.7631         3.7630     0.000087     3.9907\n"
     ]
    },
    {
     "name": "stdout",
     "output_type": "stream",
     "text": [
      "  36  0.40   1         6.7114         6.7114     0.000045     3.8995\n"
     ]
    },
    {
     "name": "stdout",
     "output_type": "stream",
     "text": [
      "  36  0.40   2         7.7001         7.7000     0.000044     4.1361\n"
     ]
    },
    {
     "name": "stdout",
     "output_type": "stream",
     "text": [
      "  38  0.20   1         2.8515         2.8519    -0.000441     4.1856\n"
     ]
    },
    {
     "name": "stdout",
     "output_type": "stream",
     "text": [
      "  38  0.20   2         2.9903         2.9906    -0.000300     4.2867\n"
     ]
    },
    {
     "name": "stdout",
     "output_type": "stream",
     "text": [
      "  38  0.40   1         5.8341         5.8343    -0.000217     4.6114\n"
     ]
    },
    {
     "name": "stdout",
     "output_type": "stream",
     "text": [
      "  38  0.40   2         6.9787         6.9788    -0.000128     3.8269\n"
     ]
    },
    {
     "name": "stdout",
     "output_type": "stream",
     "text": [
      "  40  0.20   1         2.0655         2.0664    -0.000911     4.0737\n"
     ]
    },
    {
     "name": "stdout",
     "output_type": "stream",
     "text": [
      "  40  0.20   2         2.3553         2.3559    -0.000594     3.8738\n"
     ]
    },
    {
     "name": "stdout",
     "output_type": "stream",
     "text": [
      "  40  0.40   1         5.0592         5.0596    -0.000439     4.0869\n"
     ]
    },
    {
     "name": "stdout",
     "output_type": "stream",
     "text": [
      "  40  0.40   2         6.3257         6.3260    -0.000273     4.6119\n"
     ]
    },
    {
     "name": "stdout",
     "output_type": "stream",
     "text": [
      "  42  0.20   1         1.4640         1.4645    -0.000500     4.5709\n"
     ]
    },
    {
     "name": "stdout",
     "output_type": "stream",
     "text": [
      "  42  0.20   2         1.8410         1.8414    -0.000334     4.5049\n"
     ]
    },
    {
     "name": "stdout",
     "output_type": "stream",
     "text": [
      "  42  0.40   1         4.3785         4.3787    -0.000241     4.5041\n"
     ]
    },
    {
     "name": "stdout",
     "output_type": "stream",
     "text": [
      "  42  0.40   2         5.7355         5.7356    -0.000142     5.1228\n"
     ]
    },
    {
     "name": "stdout",
     "output_type": "stream",
     "text": [
      "  44  0.20   1         1.0169         1.0169    -0.000006     3.2938\n"
     ]
    },
    {
     "name": "stdout",
     "output_type": "stream",
     "text": [
      "  44  0.20   2         1.4292         1.4292    -0.000020     3.8493\n"
     ]
    },
    {
     "name": "stdout",
     "output_type": "stream",
     "text": [
      "  44  0.40   1         3.7828         3.7828     0.000027     3.8987\n"
     ]
    },
    {
     "name": "stdout",
     "output_type": "stream",
     "text": [
      "  44  0.40   2         5.2020         5.2020     0.000036     3.6853\n"
     ]
    }
   ],
   "source": [
    "def replicate_table1_european():\n",
    "    \"\"\" Replicate European put values from Table 1 using FD method\n",
    "    Compare with Black-Scholes closed form\n",
    "    - noting early ex. values are also negative as this comparison is for 2 EU-put options\n",
    "    \"\"\"\n",
    "    # Fixed parameters from the paper\n",
    "    K = 40\n",
    "    r = 0.06\n",
    "    \n",
    "    # Parameters from Table 1\n",
    "    params = [\n",
    "        (36, 0.20, 1), (36, 0.20, 2), (36, 0.40, 1), (36, 0.40, 2),\n",
    "        (38, 0.20, 1), (38, 0.20, 2), (38, 0.40, 1), (38, 0.40, 2),\n",
    "        (40, 0.20, 1), (40, 0.20, 2), (40, 0.40, 1), (40, 0.40, 2),\n",
    "        (42, 0.20, 1), (42, 0.20, 2), (42, 0.40, 1), (42, 0.40, 2),\n",
    "        (44, 0.20, 1), (44, 0.20, 2), (44, 0.40, 1), (44, 0.40, 2)\n",
    "    ]\n",
    "    \n",
    "    print(\"\\nFinite Difference European Put Pricing\")\n",
    "    print(\"\")\n",
    "    print(f\"{'S':>4} {'vol':>4} {'T':>3} | {'FD European':>12} | {'BS European':>12} | {'Difference':>10} | {'Runtime':>10}\")\n",
    "    print(\"-\"*70)\n",
    "\n",
    "    results = []\n",
    "    for S0, sigma, T in params:\n",
    "        # Calculate FD price\n",
    "        fd_price, runtime_eu = fd_european_put(S0, K, r, sigma, T)\n",
    "        # Calculate Black-Scholes price\n",
    "        bs_price = bs_put_price(S0, K, r, sigma, T)\n",
    "        # Calculate difference\n",
    "        diff = fd_price - bs_price\n",
    "        \n",
    "        # Display results\n",
    "        print(f\"{S0:>4} {sigma:>5.2f} {T:>3}   \"\n",
    "              f\"{fd_price:>12.4f}   \"\n",
    "              f\"{bs_price:>12.4f}   \"\n",
    "              f\"{diff:>10.6f}   \"\n",
    "              f\"{runtime_eu:>8.4f}\")\n",
    "        \n",
    "        results.append({\n",
    "            'S': S0,\n",
    "            'sigma': sigma,\n",
    "            'T': T,\n",
    "            'FD_European': fd_price,\n",
    "            'BS_European': bs_price,\n",
    "            'Early ex. value': diff,\n",
    "            'Runtime': runtime_eu\n",
    "        })\n",
    "    \n",
    "    df_results = pd.DataFrame(results)\n",
    "    \n",
    "    return df_results\n",
    "\n",
    "df_results1 = replicate_table1_european()"
   ]
  },
  {
   "cell_type": "code",
   "execution_count": 7,
   "id": "d9a264b6",
   "metadata": {},
   "outputs": [
    {
     "name": "stdout",
     "output_type": "stream",
     "text": [
      "\n",
      "Finite Difference American Put Pricing vs. Closed form European (BS)\n",
      "\n",
      "   S  vol   T |  FD European |  BS European | Difference |    Runtime\n",
      "----------------------------------------------------------------------\n"
     ]
    },
    {
     "name": "stdout",
     "output_type": "stream",
     "text": [
      "  36  0.20   1         4.4860         3.8443     0.641698    13.0204\n"
     ]
    },
    {
     "name": "stdout",
     "output_type": "stream",
     "text": [
      "  36  0.20   2         4.8477         3.7630     1.084740    15.0246\n"
     ]
    },
    {
     "name": "stdout",
     "output_type": "stream",
     "text": [
      "  36  0.40   1         7.1087         6.7114     0.397328    14.7521\n"
     ]
    },
    {
     "name": "stdout",
     "output_type": "stream",
     "text": [
      "  36  0.40   2         8.5140         7.7000     0.813911    13.7007\n"
     ]
    },
    {
     "name": "stdout",
     "output_type": "stream",
     "text": [
      "  38  0.20   1         3.2563         2.8519     0.404407    13.9257\n"
     ]
    },
    {
     "name": "stdout",
     "output_type": "stream",
     "text": [
      "  38  0.20   2         3.7507         2.9906     0.760191    13.1353\n"
     ]
    },
    {
     "name": "stdout",
     "output_type": "stream",
     "text": [
      "  38  0.40   1         6.1542         5.8343     0.319844    13.9744\n"
     ]
    },
    {
     "name": "stdout",
     "output_type": "stream",
     "text": [
      "  38  0.40   2         7.6746         6.9788     0.695772    13.3187\n"
     ]
    },
    {
     "name": "stdout",
     "output_type": "stream",
     "text": [
      "  40  0.20   1         2.3185         2.0664     0.252081    13.6907\n"
     ]
    },
    {
     "name": "stdout",
     "output_type": "stream",
     "text": [
      "  40  0.20   2         2.8892         2.3559     0.533339    13.8437\n"
     ]
    },
    {
     "name": "stdout",
     "output_type": "stream",
     "text": [
      "  40  0.40   1         5.3177         5.0596     0.258088    13.7186\n"
     ]
    },
    {
     "name": "stdout",
     "output_type": "stream",
     "text": [
      "  40  0.40   2         6.9230         6.3260     0.597037    13.6716\n"
     ]
    },
    {
     "name": "stdout",
     "output_type": "stream",
     "text": [
      "  42  0.20   1         1.6204         1.4645     0.155880    14.0175\n"
     ]
    },
    {
     "name": "stdout",
     "output_type": "stream",
     "text": [
      "  42  0.20   2         2.2161         1.8414     0.374785    13.8230\n"
     ]
    },
    {
     "name": "stdout",
     "output_type": "stream",
     "text": [
      "  42  0.40   1         4.5877         4.3787     0.209016    13.5780\n"
     ]
    },
    {
     "name": "stdout",
     "output_type": "stream",
     "text": [
      "  42  0.40   2         6.2499         5.7356     0.514286    14.3708\n"
     ]
    },
    {
     "name": "stdout",
     "output_type": "stream",
     "text": [
      "  44  0.20   1         1.1126         1.0169     0.095697    14.9628\n"
     ]
    },
    {
     "name": "stdout",
     "output_type": "stream",
     "text": [
      "  44  0.20   2         1.6930         1.4292     0.263755    13.1831\n"
     ]
    },
    {
     "name": "stdout",
     "output_type": "stream",
     "text": [
      "  44  0.40   1         3.9526         3.7828     0.169779    13.7485\n"
     ]
    },
    {
     "name": "stdout",
     "output_type": "stream",
     "text": [
      "  44  0.40   2         5.6465         5.2020     0.444528    14.4722\n"
     ]
    }
   ],
   "source": [
    "def replicate_table1_american(): # aside table\n",
    "    \"\"\" Replicate American put values from Table 1 using FD method\n",
    "        Compare with Black-Scholes closed form\n",
    "    \"\"\"\n",
    "    # Fixed parameters from the paper\n",
    "    K = 40\n",
    "    r = 0.06\n",
    "    \n",
    "    # Parameters from Table 1\n",
    "    params = [\n",
    "        (36, 0.20, 1), (36, 0.20, 2), (36, 0.40, 1), (36, 0.40, 2),\n",
    "        (38, 0.20, 1), (38, 0.20, 2), (38, 0.40, 1), (38, 0.40, 2),\n",
    "        (40, 0.20, 1), (40, 0.20, 2), (40, 0.40, 1), (40, 0.40, 2),\n",
    "        (42, 0.20, 1), (42, 0.20, 2), (42, 0.40, 1), (42, 0.40, 2),\n",
    "        (44, 0.20, 1), (44, 0.20, 2), (44, 0.40, 1), (44, 0.40, 2)\n",
    "    ]\n",
    "    \n",
    "    print(\"\\nFinite Difference American Put Pricing vs. Closed form European (BS)\")\n",
    "    print(\"\")\n",
    "    print(f\"{'S':>4} {'vol':>4} {'T':>3} | {'FD European':>12} | {'BS European':>12} | {'Difference':>10} | {'Runtime':>10}\")\n",
    "    print(\"-\"*70)\n",
    "    \n",
    "    results = []\n",
    "    for S0, sigma, T in params:\n",
    "        # Calculate FD price\n",
    "        fd_price, runtime_am = fd_american_put(S0, K, r, sigma, T)\n",
    "        # Calculate Black-Scholes price\n",
    "        bs_price = bs_put_price(S0, K, r, sigma, T)\n",
    "        # Calculate difference\n",
    "        diff = fd_price - bs_price\n",
    "        \n",
    "        # Display results\n",
    "        print(f\"{S0:>4} {sigma:>5.2f} {T:>3}   \"\n",
    "              f\"{fd_price:>12.4f}   \"\n",
    "              f\"{bs_price:>12.4f}   \"\n",
    "              f\"{diff:>10.6f}   \"\n",
    "              f\"{runtime_am:>8.4f}\")\n",
    "        \n",
    "        \n",
    "        results.append({\n",
    "            'S': S0,\n",
    "            'sigma': sigma,\n",
    "            'T': T,\n",
    "            'FD_American': fd_price,\n",
    "            'BS_European': bs_price,\n",
    "            'Early exercise': diff,\n",
    "            'Runtime': runtime_am\n",
    "        })\n",
    "    \n",
    "    # Create DataFrame for further analysis\n",
    "    df_results = pd.DataFrame(results)\n",
    "    \n",
    "    return df_results\n",
    "\n",
    "df_results2 = replicate_table1_american()"
   ]
  },
  {
   "cell_type": "code",
   "execution_count": 8,
   "id": "7ad4d1d5",
   "metadata": {},
   "outputs": [
    {
     "name": "stdout",
     "output_type": "stream",
     "text": [
      "\n",
      "Table 1: American put values, closed form European and early exercise value\n",
      "\n",
      "                     American       BS European    Early Ex.    Runtime\n",
      "Price    vol    T    Put            Put            value\n",
      "---------------------------------------------------------------------------\n"
     ]
    },
    {
     "name": "stdout",
     "output_type": "stream",
     "text": [
      " 36     0.20    1    4.4860         3.8443         0.6417         13.7476\n"
     ]
    },
    {
     "name": "stdout",
     "output_type": "stream",
     "text": [
      " 36     0.20    2    4.8477         3.7630         1.0847         13.6219\n"
     ]
    },
    {
     "name": "stdout",
     "output_type": "stream",
     "text": [
      " 36     0.40    1    7.1087         6.7114         0.3973         13.6714\n"
     ]
    },
    {
     "name": "stdout",
     "output_type": "stream",
     "text": [
      " 36     0.40    2    8.5140         7.7000         0.8139         13.4594\n"
     ]
    },
    {
     "name": "stdout",
     "output_type": "stream",
     "text": [
      " 38     0.20    1    3.2563         2.8519         0.4044         13.6640\n"
     ]
    },
    {
     "name": "stdout",
     "output_type": "stream",
     "text": [
      " 38     0.20    2    3.7507         2.9906         0.7602         13.8273\n"
     ]
    },
    {
     "name": "stdout",
     "output_type": "stream",
     "text": [
      " 38     0.40    1    6.1542         5.8343         0.3198         13.3080\n"
     ]
    },
    {
     "name": "stdout",
     "output_type": "stream",
     "text": [
      " 38     0.40    2    7.6746         6.9788         0.6958         13.5601\n"
     ]
    },
    {
     "name": "stdout",
     "output_type": "stream",
     "text": [
      " 40     0.20    1    2.3185         2.0664         0.2521         13.8811\n"
     ]
    },
    {
     "name": "stdout",
     "output_type": "stream",
     "text": [
      " 40     0.20    2    2.8892         2.3559         0.5333         13.6484\n"
     ]
    },
    {
     "name": "stdout",
     "output_type": "stream",
     "text": [
      " 40     0.40    1    5.3177         5.0596         0.2581         13.6260\n"
     ]
    },
    {
     "name": "stdout",
     "output_type": "stream",
     "text": [
      " 40     0.40    2    6.9230         6.3260         0.5970         13.7605\n"
     ]
    },
    {
     "name": "stdout",
     "output_type": "stream",
     "text": [
      " 42     0.20    1    1.6204         1.4645         0.1559         13.7692\n"
     ]
    },
    {
     "name": "stdout",
     "output_type": "stream",
     "text": [
      " 42     0.20    2    2.2161         1.8414         0.3748         13.9529\n"
     ]
    },
    {
     "name": "stdout",
     "output_type": "stream",
     "text": [
      " 42     0.40    1    4.5877         4.3787         0.2090         13.4007\n"
     ]
    },
    {
     "name": "stdout",
     "output_type": "stream",
     "text": [
      " 42     0.40    2    6.2499         5.7356         0.5143         13.7932\n"
     ]
    },
    {
     "name": "stdout",
     "output_type": "stream",
     "text": [
      " 44     0.20    1    1.1126         1.0169         0.0957         13.2478\n"
     ]
    },
    {
     "name": "stdout",
     "output_type": "stream",
     "text": [
      " 44     0.20    2    1.6930         1.4292         0.2638         13.7603\n"
     ]
    },
    {
     "name": "stdout",
     "output_type": "stream",
     "text": [
      " 44     0.40    1    3.9526         3.7828         0.1698         13.9261\n"
     ]
    },
    {
     "name": "stdout",
     "output_type": "stream",
     "text": [
      " 44     0.40    2    5.6465         5.2020         0.4445         13.6192\n"
     ]
    }
   ],
   "source": [
    "def replicate_table1():\n",
    "    \"\"\" Replication of Table 1 format from the paper   \"\"\"\n",
    "    # Fixed parameters\n",
    "    K = 40\n",
    "    r = 0.06\n",
    "    \n",
    "    # Parameters\n",
    "    params = [\n",
    "        (36, 0.20, 1), (36, 0.20, 2), (36, 0.40, 1), (36, 0.40, 2),\n",
    "        (38, 0.20, 1), (38, 0.20, 2), (38, 0.40, 1), (38, 0.40, 2),\n",
    "        (40, 0.20, 1), (40, 0.20, 2), (40, 0.40, 1), (40, 0.40, 2),\n",
    "        (42, 0.20, 1), (42, 0.20, 2), (42, 0.40, 1), (42, 0.40, 2),\n",
    "        (44, 0.20, 1), (44, 0.20, 2), (44, 0.40, 1), (44, 0.40, 2)\n",
    "    ]\n",
    "    \n",
    "    print(\"\\nTable 1: American put values, closed form European and early exercise value\")\n",
    "    print(\"\")\n",
    "    print(\"                     American       BS European    Early Ex.    Runtime\")\n",
    "    print(\"Price    vol    T    Put            Put            value\")\n",
    "    print(\"-\" * 75)\n",
    "    \n",
    "    results = []\n",
    "    for S0, sigma, T in params:\n",
    "        european = bs_put_price(S0, K, r, sigma, T)\n",
    "        american, runtime_am = fd_american_put(S0, K, r, sigma, T)\n",
    "        ex_value = american - european\n",
    "        \n",
    "        print(f\"{S0:3.0f}     {sigma:4.2f}    {T:1.0f}   \"\n",
    "                f\"{american:7.4f}        {european:7.4f}         {ex_value:6.4f}         {runtime_am:6.4f}\")\n",
    "    \n",
    "    results.append({\n",
    "            'S': S0,\n",
    "            'vol': sigma,\n",
    "            'T': T,\n",
    "            'FD_American': american,\n",
    "            'BS_European': european,\n",
    "            'Early exercise': ex_value,\n",
    "            'Runtime': runtime_am\n",
    "        })\n",
    "    df_results = pd.DataFrame(results)\n",
    "    \n",
    "    return df_results\n",
    "\n",
    "df_results3 = replicate_table1()"
   ]
  },
  {
   "cell_type": "markdown",
   "id": "a2683a77",
   "metadata": {},
   "source": [
    "We notice that for the american option the FD pricer takes some time run. \n",
    "\n",
    "Can we improve this?\n",
    "- COS method\n",
    "- Implementation in C++\n",
    "- Combination: Implement COS-method for pricing in C++"
   ]
  },
  {
   "cell_type": "markdown",
   "id": "34d83dd9",
   "metadata": {},
   "source": [
    "#### Convergence analysis"
   ]
  },
  {
   "cell_type": "code",
   "execution_count": 9,
   "id": "8cf12d34",
   "metadata": {},
   "outputs": [],
   "source": [
    "def convergence_plot():\n",
    "    \"\"\" We want to use the MC with overkilled params to provide as accurate as possible price \n",
    "        and compare the fd_americal_put() implementation as grid sizes increases,\n",
    "        against the price provided by the LSMC-pricer.\n",
    "    \"\"\"\n",
    "    # Parameters\n",
    "    S0, K, r, sigma, T = 36, 40, 0.06, 0.20, 1\n",
    "    # S0, K, r, sigma, T = 44, 40, 0.06, 0.20, 1\n",
    "    # S0, K, r, sigma, T = 36, 40, 0.06, 0.40, 1\n",
    "    # S0, K, r, sigma, T = 40, 40, 0.06, 0.40, 1\n",
    "    # Get LSMC benchmark with very high accuracy\n",
    "    print(\"Computing LSMC benchmark value with 1 million paths\")\n",
    "    np.random.seed(1)\n",
    "    S_paths = simulate_gbm_paths(S0, r, sigma, T, 50, 500000)  # 1mil paths total\n",
    "    lsmc_value, lsmc_se = lsmc_american_put(S_paths, K, r, T, 50)\n",
    "    print(f\"LSMC benchmark: {lsmc_value:.6f} (s.e. = {lsmc_se:.6f})\")\n",
    "    \n",
    "    # Test FD conv\n",
    "    print(\"\\nTesting FD convergence: computing prices\")\n",
    "    grid_sizes = [(100, 1000), (250, 5000), (500, 10000), (750, 20000), (1000, 40000)] # last is paper \n",
    "    nx_vals = [g[0] for g in grid_sizes]\n",
    "    #fd_vals = [fd_american_put(S0, K, r, sigma, T, Nx=Nx, Nt=Nt) for Nx, Nt in grid_sizes]\n",
    "    fd_vals = [fd_american_put(S0, K, r, sigma, T, Nx=Nx, Nt=Nt)[0] for Nx, Nt in grid_sizes]\n",
    "\n",
    "    # Test LSMC standard error conv\n",
    "    print(\"\\nLSMC standard error convergence\")\n",
    "    n_paths_list = [5000, 10000, 25000, 50000, 75000, 100000]\n",
    "    lsmc_ses = []\n",
    "    \n",
    "    for n_paths in n_paths_list:\n",
    "        np.random.seed(1)\n",
    "        S_paths = simulate_gbm_paths(S0, r, sigma, T, 50, n_paths//2)\n",
    "        se = lsmc_american_put(S_paths, K, r, T, 50)[1]\n",
    "        lsmc_ses.append(se)\n",
    "    \n",
    "    # Create subplots\n",
    "    fig, (ax1, ax2) = plt.subplots(1, 2, figsize=(14, 6))\n",
    "    \n",
    "    # Left: FD price convergence\n",
    "    ax1.plot(nx_vals, fd_vals, 'bo-', markersize=10, linewidth=2.5, label=f'FD Prices = {fd_vals[-2]:.6f}')\n",
    "    ax1.axhline(y=lsmc_value, color='red', linestyle='--', linewidth=2, \n",
    "                label=f'LSMC = {lsmc_value:.4f}')\n",
    "    \n",
    "    ax1.set_xlabel('Spatial Grid Points (Nx)', fontsize=12)\n",
    "    ax1.set_ylabel('American Put Price', fontsize=12)\n",
    "    ax1.set_title('FD Price Convergence', fontsize=14)\n",
    "    ax1.grid(True, alpha=0.3)\n",
    "    ax1.legend(fontsize=10)\n",
    "    \n",
    "    # Right: LSMC standard error reduction\n",
    "    ax2.loglog(n_paths_list, lsmc_ses, 'ro-', markersize=10, linewidth=2.5, label='LSMC Std Error')\n",
    "    \n",
    "    ax2.set_xlabel('Number of MC paths', fontsize=12)\n",
    "    ax2.set_ylabel('Standard Error (log scale)', fontsize=12)\n",
    "    ax2.set_title('LSMC Error', fontsize=14)\n",
    "    ax2.grid(True, alpha=0.3)\n",
    "    ax2.legend(fontsize=10)\n",
    "    \n",
    "    plt.suptitle('FD Convergence to LSMC & Monte Carlo Standard Error', fontsize=16)\n",
    "    plt.tight_layout()\n",
    "    plt.show()\n",
    "    \n",
    "    print(f\"\\nFinal Results:\")\n",
    "    print(f\"FD (1000x40000): {fd_vals[-1]:.6f}\")\n",
    "    print(f\"LSMC benchmark: {lsmc_value:.6f}\")\n",
    "    print(f\"Difference: {abs(fd_vals[-1] - lsmc_value):.6f}\")\n"
   ]
  },
  {
   "cell_type": "code",
   "execution_count": 10,
   "id": "87b65cf3",
   "metadata": {},
   "outputs": [],
   "source": [
    "def generate_table1(): # Generates the complete Table 1\n",
    "    \"\"\" Generate complete Table 1 \n",
    "    Want to show: \n",
    "    - Use overkilled LSMC params to get as precise as possible price\n",
    "    - Does FD-price tend to that value?\n",
    "        - Plot suggests otherwise\n",
    "        - In Table there is a slight inaccuracy in AM-price [need to correct]\n",
    "    \"\"\"\n",
    "    # Fixed parameters\n",
    "    K = 40\n",
    "    r = 0.06\n",
    "    \n",
    "    # Table parameters\n",
    "    params = [\n",
    "        (36, 0.20, 1), (36, 0.20, 2), (36, 0.40, 1), (36, 0.40, 2),\n",
    "        (38, 0.20, 1), (38, 0.20, 2), (38, 0.40, 1), (38, 0.40, 2),\n",
    "        (40, 0.20, 1), (40, 0.20, 2), (40, 0.40, 1), (40, 0.40, 2),\n",
    "        (42, 0.20, 1), (42, 0.20, 2), (42, 0.40, 1), (42, 0.40, 2),\n",
    "        (44, 0.20, 1), (44, 0.20, 2), (44, 0.40, 1), (44, 0.40, 2)\n",
    "    ]\n",
    "    \n",
    "    results = []\n",
    "    \n",
    "    for S0, sigma, T in params:\n",
    "        # Closed form EU\n",
    "        european = bs_put_price(S0, K, r, sigma, T)\n",
    "        \n",
    "        # FD AM put pricer\n",
    "        american_fd = fd_american_put(S0, K, r, sigma, T)[0]\n",
    "        early_ex_fd = american_fd - european\n",
    "        \n",
    "        # LSMC-pricer\n",
    "        np.random.seed(1)\n",
    "        n_steps = int(T * 50)\n",
    "        S_paths = simulate_gbm_paths(S0, r, sigma, T, n_steps, 50000) # as in paper\n",
    "        american_lsmc, se_lsmc = lsmc_american_put(S_paths, K, r, T, n_steps)\n",
    "        early_ex_lsmc = american_lsmc - european\n",
    "        \n",
    "        # Difference in early exercise \n",
    "        diff = early_ex_lsmc - early_ex_fd\n",
    "        \n",
    "        results.append({\n",
    "            'S': S0, 'sigma': sigma, 'T': T,\n",
    "            'FD_American': american_fd, 'European': european, 'FD_Early_Ex': early_ex_fd,\n",
    "            'LSMC_American': american_lsmc, 'SE': se_lsmc, 'LSMC_Early_Ex': early_ex_lsmc,\n",
    "            'Difference': diff\n",
    "        })\n",
    "    \n",
    "    df = pd.DataFrame(results)\n",
    "    \n",
    "    return print(df)"
   ]
  },
  {
   "cell_type": "code",
   "execution_count": 11,
   "id": "a153b178",
   "metadata": {},
   "outputs": [
    {
     "name": "stdout",
     "output_type": "stream",
     "text": [
      "Computing LSMC benchmark value with 1 million paths\n"
     ]
    },
    {
     "name": "stdout",
     "output_type": "stream",
     "text": [
      "LSMC benchmark: 4.478278 (s.e. = 0.002902)\n",
      "\n",
      "Testing FD convergence: computing prices\n"
     ]
    },
    {
     "name": "stdout",
     "output_type": "stream",
     "text": [
      "\n",
      "LSMC standard error convergence\n"
     ]
    },
    {
     "data": {
      "image/png": "[encoded data removed]",
      "text/plain": [
       "<Figure size 1400x600 with 2 Axes>"
      ]
     },
     "metadata": {},
     "output_type": "display_data"
    },
    {
     "name": "stdout",
     "output_type": "stream",
     "text": [
      "\n",
      "Final Results:\n",
      "FD (1000x40000): 4.486006\n",
      "LSMC benchmark: 4.478278\n",
      "Difference: 0.007728\n"
     ]
    }
   ],
   "source": [
    "convergence_plot()"
   ]
  },
  {
   "cell_type": "code",
   "execution_count": 12,
   "id": "8ec78dd1",
   "metadata": {},
   "outputs": [
    {
     "ename": "KeyboardInterrupt",
     "evalue": "",
     "output_type": "error",
     "traceback": [
      "\u001b[0;31m---------------------------------------------------------------------------\u001b[0m",
      "\u001b[0;31mKeyboardInterrupt\u001b[0m                         Traceback (most recent call last)",
      "Cell \u001b[0;32mIn[12], line 1\u001b[0m\n\u001b[0;32m----> 1\u001b[0m \u001b[43mgenerate_table1\u001b[49m\u001b[43m(\u001b[49m\u001b[43m)\u001b[49m\n",
      "Cell \u001b[0;32mIn[10], line 36\u001b[0m, in \u001b[0;36mgenerate_table1\u001b[0;34m()\u001b[0m\n\u001b[1;32m     34\u001b[0m n_steps \u001b[38;5;241m=\u001b[39m \u001b[38;5;28mint\u001b[39m(T \u001b[38;5;241m*\u001b[39m \u001b[38;5;241m50\u001b[39m)\n\u001b[1;32m     35\u001b[0m S_paths \u001b[38;5;241m=\u001b[39m simulate_gbm_paths(S0, r, sigma, T, n_steps, \u001b[38;5;241m50000\u001b[39m) \u001b[38;5;66;03m# as in paper\u001b[39;00m\n\u001b[0;32m---> 36\u001b[0m american_lsmc, se_lsmc \u001b[38;5;241m=\u001b[39m \u001b[43mlsmc_american_put\u001b[49m\u001b[43m(\u001b[49m\u001b[43mS_paths\u001b[49m\u001b[43m,\u001b[49m\u001b[43m \u001b[49m\u001b[43mK\u001b[49m\u001b[43m,\u001b[49m\u001b[43m \u001b[49m\u001b[43mr\u001b[49m\u001b[43m,\u001b[49m\u001b[43m \u001b[49m\u001b[43mT\u001b[49m\u001b[43m,\u001b[49m\u001b[43m \u001b[49m\u001b[43mn_steps\u001b[49m\u001b[43m)\u001b[49m\n\u001b[1;32m     37\u001b[0m early_ex_lsmc \u001b[38;5;241m=\u001b[39m american_lsmc \u001b[38;5;241m-\u001b[39m european\n\u001b[1;32m     39\u001b[0m \u001b[38;5;66;03m# Difference in early exercise \u001b[39;00m\n",
      "Cell \u001b[0;32mIn[3], line -1\u001b[0m, in \u001b[0;36mlsmc_american_put\u001b[0;34m(S, K, r, T, n_steps)\u001b[0m\n\u001b[1;32m      0\u001b[0m <Error retrieving source code with stack_data see ipython/ipython#13598>\n",
      "\u001b[0;31mKeyboardInterrupt\u001b[0m: "
     ]
    }
   ],
   "source": [
    "generate_table1()"
   ]
  },
  {
   "cell_type": "code",
   "execution_count": null,
   "id": "8683f121",
   "metadata": {},
   "outputs": [],
   "source": []
  }
 ],
 "metadata": {
  "kernelspec": {
   "display_name": "Python 3.10.6 ('base')",
   "language": "python",
   "name": "python3"
  },
  "language_info": {
   "codemirror_mode": {
    "name": "ipython",
    "version": 3
   },
   "file_extension": ".py",
   "mimetype": "text/x-python",
   "name": "python",
   "nbconvert_exporter": "python",
   "pygments_lexer": "ipython3",
   "version": "3.10.6"
  },
  "vscode": {
   "interpreter": {
    "hash": "a7b443fdbaa59852a52c006d41608c7501bf7a8d16d7082e9e024fccf0099928"
   }
  }
 },
 "nbformat": 4,
 "nbformat_minor": 5
}