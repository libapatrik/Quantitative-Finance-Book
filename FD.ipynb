{
 "cells": [
  {
   "cell_type": "markdown",
   "id": "aaeea54e",
   "metadata": {},
   "source": [
    "# Finite Difference for Pricing American Options\n",
    "    - Replicating the implementation in Longstaff and Schwarz.\n",
    "    - Replicating the values in Table 1.\n",
    "    - Completel replicating the Table 1, as in the paper."
   ]
  },
  {
   "cell_type": "code",
   "execution_count": null,
   "id": "bf32c8ed",
   "metadata": {},
   "outputs": [],
   "source": []
  }
 ],
 "metadata": {
  "kernelspec": {
   "display_name": "Python 3.13.1 64-bit",
   "language": "python",
   "name": "python3"
  },
  "language_info": {
   "codemirror_mode": {
    "name": "ipython",
    "version": 3
   },
   "file_extension": ".py",
   "mimetype": "text/x-python",
   "name": "python",
   "nbconvert_exporter": "python",
   "pygments_lexer": "ipython3",
   "version": "3.13.1"
  },
  "vscode": {
   "interpreter": {
    "hash": "b0fa6594d8f4cbf19f97940f81e996739fb7646882a419484c72d19e05852a7e"
   }
  }
 },
 "nbformat": 4,
 "nbformat_minor": 5
}
