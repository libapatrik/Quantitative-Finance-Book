{
 "cells": [
  {
   "cell_type": "markdown",
   "metadata": {},
   "source": [
    "# Pricing American Options by COS method\n",
    "- COS method has no problem finding the conditional expectation as it makes use of the distribution information directly.\n"
   ]
  },
  {
   "cell_type": "markdown",
   "metadata": {},
   "source": [
    "As shown in Longstaff and Schwartz’s method {cite:p}`longstaff2001valuing`, we simulate early exercise.\n",
    "\n",
    "For more fundamentals, see Hull's book {cite:p}`hull2018options`.\n"
   ]
  },
  {
   "cell_type": "code",
   "execution_count": null,
   "metadata": {},
   "outputs": [],
   "source": []
  }
 ],
 "metadata": {
  "kernelspec": {
   "display_name": "Python 3.10.6 ('base')",
   "language": "python",
   "name": "python3"
  },
  "language_info": {
   "codemirror_mode": {
    "name": "ipython",
    "version": 3
   },
   "file_extension": ".py",
   "mimetype": "text/x-python",
   "name": "python",
   "nbconvert_exporter": "python",
   "pygments_lexer": "ipython3",
   "version": "3.10.6"
  },
  "orig_nbformat": 4,
  "vscode": {
   "interpreter": {
    "hash": "a7b443fdbaa59852a52c006d41608c7501bf7a8d16d7082e9e024fccf0099928"
   }
  }
 },
 "nbformat": 4,
 "nbformat_minor": 2
}
