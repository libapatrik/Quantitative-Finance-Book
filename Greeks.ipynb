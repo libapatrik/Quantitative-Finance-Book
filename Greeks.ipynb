{
 "cells": [
  {
   "metadata": {},
   "cell_type": "markdown",
   "source": "# Greeks, Hedging and Visualizations",
   "id": "9d84ab530c29d823"
  },
  {
   "metadata": {},
   "cell_type": "markdown",
   "source": [
    "#### Key questions:\n",
    "- How can we compute and visualize option Greeks (Delta, Gamma, Theta, Vega, Rho)?\n",
    "- How can we use COS method for Greeks calculation?\n",
    "- Can we compare COS vs. FD methods for Greeks?\n",
    "- Can we do this in C++ for performance? [and use the C++'s calculation in Python?]\n",
    "-"
   ],
   "id": "88db65f814fd52d"
  },
  {
   "cell_type": "code",
   "execution_count": null,
   "id": "initial_id",
   "metadata": {
    "collapsed": true
   },
   "outputs": [],
   "source": [
    ""
   ]
  }
 ],
 "metadata": {
  "kernelspec": {
   "display_name": "Python 3",
   "language": "python",
   "name": "python3"
  },
  "language_info": {
   "codemirror_mode": {
    "name": "ipython",
    "version": 2
   },
   "file_extension": ".py",
   "mimetype": "text/x-python",
   "name": "python",
   "nbconvert_exporter": "python",
   "pygments_lexer": "ipython2",
   "version": "2.7.6"
  }
 },
 "nbformat": 4,
 "nbformat_minor": 5
}
