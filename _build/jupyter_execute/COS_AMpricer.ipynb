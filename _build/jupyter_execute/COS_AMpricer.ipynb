{
 "cells": [
  {
   "cell_type": "markdown",
   "metadata": {},
   "source": [
    "# Pricing American Options by COS method\n",
    "- COS method has no problem finding the conditional expectation as it makes use of the distribution information directly.\n"
   ]
  },
  {
   "cell_type": "markdown",
   "metadata": {},
   "source": [
    "As shown in Longstaff and Schwartz’s method {cite:p}`longstaff2001valuing`, we simulate early exercise.\n",
    "\n",
    "For more fundamentals, see Hull's book {cite:p}`hull2012options`.\n"
   ]
  },
  {
   "cell_type": "markdown",
   "metadata": {},
   "source": [
    "- Pricing formulation:\n",
    "\n",
    "$$ c(x, t_{n-1}) = e^{(-r\\Delta t)}\\mathbb{E}\\left[ V(X_{t_n} \\mid X_{t_{n-1}} = x \\right] = e^{(-r\\Delta t)} \\int_{-\\infty}^{+\\infty} v(y, t_n) f(y \\mid x) \\, \\mathrm{d}y $$\n",
    "$$ v(x, t_{n-1}) = \\max\\{ \\Lambda(x, t_{n-1}), c(x, t_{n-1}) \\} $$\n",
    "\n",
    "- Replace $c(x, t_{n-1})$ by the COS approximation, i.e.\n",
    "\n",
    "$$ c(x, t_{n-1}) \\approx \\hat{c}(x, t_{n-1}) = e^{(-r\\Delta t)} {\\sum^{+\\infty}_{k=0}}' \\mathfrak{Re}\\left\\{ \\varphi\\left( \\frac{k\\pi}{b-a} \\right)\\cdot \\exp\\left(i k \\pi \\frac{x -a}{b-a}\\right)  \\right\\}V_k(t_n) $$\n",
    "\n",
    "where by $'$ we mean that the sum includes the $1/2$-coefficient.  \n",
    "\n",
    "where:\n",
    "$$ V_k(t_n) = \\begin{cases} \n",
    "C_k(a, x^{\\star}_n, t_n) + G_k(x^{\\star}_n, b) \\text{, for a call, } \\\\\n",
    "G_k(a, x^{\\star}_n) + C_k(a, x^{\\star}_n, b) \\text{, for a put. } \n",
    "\\end{cases}$$\n",
    "\n",
    "$$ G_k(x_1, x_2) = \\frac{2}{b-a} \\int^{x_2}_{x_1} \\Lambda(x, t_n)\\cos\\left(k\\pi \\frac{x-a}{b-a}\\right) \\, \\mathrm{d}x$$\n",
    "\n",
    "$$ C_k(x_1, x_2, t_n) = \\frac{2}{b-a} \\int^{x_2}_{x_1} c(x, t_n)\\cos\\left(k\\pi \\frac{x-a}{b-a}\\right) \\, \\mathrm{d}x$$\n",
    "\n",
    "- Further replacing $c(x, t_n)$ by $\\hat{c}(x, t_{n-1})$ in the defintion of $V_k(t_n)$, yields $\\hat{V}_k(t_n)$.\n",
    "\n",
    "$$ \\hat{V}_k(t_n) =  $$\n",
    "\n",
    "\n",
    "\n",
    "\n",
    "\n",
    " \n",
    "\n"
   ]
  },
  {
   "cell_type": "code",
   "execution_count": null,
   "metadata": {},
   "outputs": [],
   "source": []
  },
  {
   "cell_type": "code",
   "execution_count": null,
   "metadata": {},
   "outputs": [],
   "source": []
  }
 ],
 "metadata": {
  "kernelspec": {
   "display_name": "Python 3.10.6 ('base')",
   "language": "python",
   "name": "python3"
  },
  "language_info": {
   "codemirror_mode": {
    "name": "ipython",
    "version": 3
   },
   "file_extension": ".py",
   "mimetype": "text/x-python",
   "name": "python",
   "nbconvert_exporter": "python",
   "pygments_lexer": "ipython3",
   "version": "3.10.6"
  },
  "vscode": {
   "interpreter": {
    "hash": "a7b443fdbaa59852a52c006d41608c7501bf7a8d16d7082e9e024fccf0099928"
   }
  }
 },
 "nbformat": 4,
 "nbformat_minor": 2
}