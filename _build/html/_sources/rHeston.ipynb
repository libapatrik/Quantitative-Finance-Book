{
 "cells": [
  {
   "cell_type": "markdown",
   "metadata": {},
   "source": [
    "## Rough Volatility Models\n",
    "\n",
    "- Research question: Can rough volatility models be efficiently priced using characteristic functions?\n",
    "\n",
    "- Can we make use of the COS-method to price options under the rHeston model?\n"
   ]
  },
  {
   "cell_type": "markdown",
   "metadata": {},
   "source": []
  }
 ],
 "metadata": {
  "language_info": {
   "name": "python"
  },
  "orig_nbformat": 4
 },
 "nbformat": 4,
 "nbformat_minor": 2
}
