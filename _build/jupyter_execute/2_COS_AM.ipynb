{
 "cells": [
  {
   "cell_type": "markdown",
   "metadata": {},
   "source": [
    "# Pricing American Options by COS method\n",
    "- COS method has no problem finding the conditional expectation as it makes use of the distribution information directly.\n"
   ]
  },
  {
   "cell_type": "markdown",
   "metadata": {},
   "source": [
    "As shown in Longstaff and Schwartz’s method {cite:p}`longstaff2001valuing`, we simulate early exercise.\n",
    "\n",
    "For more fundamentals, see Hull's book {cite:p}`hull2012options`.\n"
   ]
  },
  {
   "cell_type": "markdown",
   "metadata": {},
   "source": [
    "- Pricing formulation:\n",
    "\n",
    "$$ c(x, t_{n-1}) = e^{(-r\\Delta t)}\\mathbb{E}\\left[ V(X_{t_n} \\mid X_{t_{n-1}} = x \\right] = e^{(-r\\Delta t)} \\int_{-\\infty}^{+\\infty} v(y, t_n) f(y \\mid x) \\, \\mathrm{d}y $$\n",
    "$$ v(x, t_{n-1}) = \\max\\{ \\Lambda(x, t_{n-1}), c(x, t_{n-1}) \\} $$\n",
    "\n",
    "- Replace $c(x, t_{n-1})$ by the COS approximation, i.e.\n",
    "\n",
    "$$ c(x, t_{n-1}) \\approx \\hat{c}(x, t_{n-1}) = e^{(-r\\Delta t)} {\\sum^{+\\infty}_{k=0}}' \\mathfrak{Re}\\left\\{ \\varphi\\left( \\frac{k\\pi}{b-a} \\right)\\cdot \\exp\\left(i k \\pi \\frac{x -a}{b-a}\\right)  \\right\\}V_k(t_n) $$\n",
    "\n",
    "where by $'$ we mean that the sum includes the $1/2$-coefficient.  \n",
    "\n",
    "where:\n",
    "$$ V_k(t_n) = \\begin{cases} \n",
    "C_k(a, x^{\\star}_n, t_n) + G_k(x^{\\star}_n, b) \\text{, for a call, } \\\\\n",
    "G_k(a, x^{\\star}_n) + C_k(a, x^{\\star}_n, b) \\text{, for a put. } \n",
    "\\end{cases}$$\n",
    "\n",
    "$$ G_k(x_1, x_2) = \\frac{2}{b-a} \\int^{x_2}_{x_1} \\Lambda(x, t_n)\\cos\\left(k\\pi \\frac{x-a}{b-a}\\right) \\, \\mathrm{d}x$$\n",
    "\n",
    "$$ C_k(x_1, x_2, t_n) = \\frac{2}{b-a} \\int^{x_2}_{x_1} c(x, t_n)\\cos\\left(k\\pi \\frac{x-a}{b-a}\\right) \\, \\mathrm{d}x$$\n",
    "\n",
    "- Further replacing $c(x, t_n)$ by $\\hat{c}(x, t_{n-1})$ in the defintion of $V_k(t_n)$, yields $\\hat{V}_k(t_n)$.\n",
    "\n",
    "$$ \\hat{V}_k(t_n) =  $$\n",
    "\n",
    "- Let us implement this. Computational complexity - $NK\\log_2{K}$\n"
   ]
  },
  {
   "cell_type": "code",
   "execution_count": 1,
   "metadata": {},
   "outputs": [],
   "source": [
    "# Import libraries\n",
    "# Import libraries\n",
    "import numpy as np\n",
    "import matplotlib.pyplot as plt\n",
    "import time\n",
    "import scipy as ss\n",
    "from scipy.stats import norm\n",
    "from scipy.integrate import trapezoid\n",
    "import pandas as pd"
   ]
  },
  {
   "cell_type": "code",
   "execution_count": 2,
   "metadata": {},
   "outputs": [],
   "source": [
    "# Recovery CDF\n",
    "def cos_cdf(a, b, omega, chf, x):\n",
    "    # F_k coefficients\n",
    "    F_k = 2.0 / (b - a) * np.real(chf * np.exp(-1j * omega * a))\n",
    "    cdf = np.squeeze(F_k[0] / 2.0 * (x - a)) + np.matmul(F_k[1:] / omega[1:], np.sin(np.outer(omega[1:], x - a)))\n",
    "    return cdf\n",
    "\n",
    "# Recover PDF\n",
    "def cos_pdf(a, b, omega, chf, x): \n",
    "    # F_k coefficients\n",
    "    F_k = 2.0 / (b - a) * np.real(chf * np.exp(-1j * omega * a))\n",
    "    # Separate first term and remaining terms like in cos_cdf\n",
    "    pdf = F_k[0] / 2.0 + np.matmul(F_k[1:], np.cos(np.outer(omega[1:], x - a)))\n",
    "    return pdf\n",
    "\n",
    "# exact price - Black-Scholes formula; from ftcs_bs_put\n",
    "def bs_put_price(S0, K, r, sigma, T):\n",
    "    d1 = ( np.log(S0/K) + (r + 0.5*sigma**2) * T ) / (sigma * np.sqrt(T))\n",
    "    d2 = d1 - sigma * np.sqrt(T)\n",
    "    bs_put = -1 * norm.cdf(-d1)*S0 + norm.cdf(-d2)*K*np.exp(-r*T)\n",
    "    return bs_put\n",
    "\n",
    "# MC paths generator with antithetic sampling\n",
    "def simulate_gbm_paths(S0, r, sigma, T, n_steps, n_paths):\n",
    "    \"\"\" Antithetic: We input 50,000 paths and we get 100,000 paths \"\"\"\n",
    "    np.random.seed(1) \n",
    "    dt = T / n_steps\n",
    "\n",
    "    # Generate randoms for half of n_paths\n",
    "    Z = np.random.randn(n_paths, n_steps)\n",
    "    \n",
    "    # Create vector of paths and antithetic paths\n",
    "    Z_all = np.vstack([Z, -Z])  \n",
    "    \n",
    "    # Initialize paths\n",
    "    n_total = 2 * n_paths\n",
    "    S = np.zeros((n_total, n_steps + 1))\n",
    "    S[:, 0] = S0\n",
    "    \n",
    "    # Simulate paths\n",
    "    for t in range(n_steps):\n",
    "        S[:, t+1] = S[:, t] * np.exp((r - 0.5*sigma**2)*dt + sigma*np.sqrt(dt)*Z_all[:, t])\n",
    "    \n",
    "    return S"
   ]
  },
  {
   "cell_type": "code",
   "execution_count": null,
   "metadata": {},
   "outputs": [],
   "source": []
  },
  {
   "cell_type": "code",
   "execution_count": null,
   "metadata": {},
   "outputs": [],
   "source": []
  },
  {
   "cell_type": "code",
   "execution_count": null,
   "metadata": {},
   "outputs": [],
   "source": []
  }
 ],
 "metadata": {
  "kernelspec": {
   "display_name": "Python 3.10.6 ('base')",
   "language": "python",
   "name": "python3"
  },
  "language_info": {
   "codemirror_mode": {
    "name": "ipython",
    "version": 3
   },
   "file_extension": ".py",
   "mimetype": "text/x-python",
   "name": "python",
   "nbconvert_exporter": "python",
   "pygments_lexer": "ipython3",
   "version": "3.10.6"
  },
  "vscode": {
   "interpreter": {
    "hash": "a7b443fdbaa59852a52c006d41608c7501bf7a8d16d7082e9e024fccf0099928"
   }
  }
 },
 "nbformat": 4,
 "nbformat_minor": 2
}