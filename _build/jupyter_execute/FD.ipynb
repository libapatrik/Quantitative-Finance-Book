{
 "cells": [
  {
   "cell_type": "markdown",
   "id": "aaeea54e",
   "metadata": {},
   "source": [
    "# Pricing American Options by Finite Difference \n",
    "    - Replicating the implementation in Longstaff and Schwarz.\n",
    "    - Replicating the values in Table 1.\n",
    "    - Completel replicating the Table 1, as in the paper."
   ]
  },
  {
   "cell_type": "code",
   "execution_count": 1,
   "id": "bf32c8ed",
   "metadata": {
    "tags": [
     "hide-input"
    ]
   },
   "outputs": [],
   "source": [
    "# Import libraries\n",
    "import numpy as np"
   ]
  },
  {
   "cell_type": "code",
   "execution_count": null,
   "id": "205a4ad4",
   "metadata": {},
   "outputs": [],
   "source": []
  }
 ],
 "metadata": {
  "kernelspec": {
   "display_name": "Python 3.10.6 ('base')",
   "language": "python",
   "name": "python3"
  },
  "language_info": {
   "codemirror_mode": {
    "name": "ipython",
    "version": 3
   },
   "file_extension": ".py",
   "mimetype": "text/x-python",
   "name": "python",
   "nbconvert_exporter": "python",
   "pygments_lexer": "ipython3",
   "version": "3.10.6"
  },
  "vscode": {
   "interpreter": {
    "hash": "a7b443fdbaa59852a52c006d41608c7501bf7a8d16d7082e9e024fccf0099928"
   }
  }
 },
 "nbformat": 4,
 "nbformat_minor": 5
}