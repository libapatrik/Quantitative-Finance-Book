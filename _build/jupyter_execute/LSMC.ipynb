{
 "cells": [
  {
   "cell_type": "markdown",
   "id": "469fe130",
   "metadata": {},
   "source": [
    "# Pricing American Options by LSMC Method\n",
    "## Simple initial example\n",
    "The goal is to replicate the LSMC method implemented [here](https://people.math.ethz.ch/~hjfurrer/teaching/LongstaffSchwartzAmericanOptionsLeastSquareMonteCarlo.pdf) which is considered to be an industry standard for pricing American (put) options. \n",
    "\n",
    "Other useful sources: \n",
    "- [Youtube lecture series](https://www.youtube.com/watch?v=4KAqgK_85UI&list=PLJ9XZsVSloaQ3bkTpJvWHEEjWiW27F8Zx&index=29) (1-3)\n",
    "\n",
    "- Tools for Computational Finance by R. U. Seydel\n",
    "\n"
   ]
  },
  {
   "cell_type": "code",
   "execution_count": 1,
   "id": "03f22b60",
   "metadata": {},
   "outputs": [],
   "source": [
    "# Libraries\n",
    "import numpy as np\n",
    "import pandas as pd\n",
    "from scipy.stats import norm"
   ]
  },
  {
   "cell_type": "code",
   "execution_count": 2,
   "id": "6e20a6b1",
   "metadata": {},
   "outputs": [
    {
     "name": "stdout",
     "output_type": "stream",
     "text": [
      "Discounting factor:  0.9417645335842487\n"
     ]
    }
   ],
   "source": [
    "K = 1.10\n",
    "r = 0.06\n",
    "df = np.exp(-r) # one step df; t=1\n",
    "print(f\"Discounting factor: \", df)\n",
    "\n",
    "# They simulated 8 paths, under r-n measure and put them in the table \n",
    "# -> So we need to copy that table, to keep it the same -> hard-code it.\n",
    "S = np.array([[1.00, 1.09, 1.08, 1.34],\n",
    "              [1.00, 1.16, 1.26, 1.54],\n",
    "              [1.00, 1.22, 1.07, 1.03],\n",
    "              [1.00, 0.93, 0.97, 0.92],\n",
    "              [1.00, 1.11, 1.56, 1.52],\n",
    "              [1.00, 0.76, 0.77, 0.90],\n",
    "              [1.00, 0.92, 0.84, 1.01],\n",
    "              [1.00, 0.88, 1.22, 1.34]\n",
    "            ])\n",
    "n_paths = S.shape[0]\n",
    "#print(df_stock_paths)\n",
    "\n",
    "# exact price - Black-Scholes formula; from ftcs_bs_put\n",
    "def bs_put_price(S0, K, r, sigma, T):\n",
    "    d1 = ( np.log(S0/K) + (r + 0.5*sigma**2) * T ) / (sigma * np.sqrt(T))\n",
    "    d2 = d1 - sigma * np.sqrt(T)\n",
    "    bs_put = -1 * norm.cdf(-d1)*S0 + norm.cdf(-d2)*K*np.exp(-r*T)\n",
    "    return bs_put"
   ]
  },
  {
   "cell_type": "code",
   "execution_count": 3,
   "id": "09ba64c2",
   "metadata": {},
   "outputs": [
    {
     "name": "stdout",
     "output_type": "stream",
     "text": [
      "Cashflow at time 3\n",
      "     t = 1 t = 2    t = 3\n",
      "Path                     \n",
      "1        -     -  0.00000\n",
      "2        -     -  0.00000\n",
      "3        -     -  0.07000\n",
      "4        -     -  0.18000\n",
      "5        -     -  0.00000\n",
      "6        -     -  0.20000\n",
      "7        -     -  0.09000\n",
      "8        -     -  0.00000\n"
     ]
    }
   ],
   "source": [
    "# TIME = 3\n",
    "# Payoff at maturity t=3\n",
    "h3 = np.maximum(K - S[:, 3], 0.0) # put payoff\n",
    "\n",
    "# Table: Cashflow at time 3\n",
    "paths = np.arange(1, n_paths + 1)\n",
    "df_cash3 = pd.DataFrame({\"Path\": paths,\n",
    "                        \"t = 1\": [\"-\"] * n_paths,   \n",
    "                        \"t = 2\": [\"-\"] * n_paths,\n",
    "                        \"t = 3\": [\"\" for _ in range(n_paths)],\n",
    "                        }).set_index(\"Path\")\n",
    "# Fill in the values\n",
    "for i in range(n_paths):\n",
    "    payoff = h3[i]\n",
    "    df_cash3.loc[i+1, \"t = 3\"] = f\"{payoff:.5f}\"\n",
    "\n",
    "# Table 1: CF at t=3\n",
    "print(\"Cashflow at time 3\")\n",
    "print(df_cash3)"
   ]
  },
  {
   "cell_type": "code",
   "execution_count": 4,
   "id": "ecdfd198",
   "metadata": {},
   "outputs": [
    {
     "name": "stdout",
     "output_type": "stream",
     "text": [
      "Least squares formula at time 2:\n",
      "E[Y|X] = -1.06999 + 2.98341.x + -1.81358.x^2\n",
      "\n",
      "Regression at time 2\n",
      "                      Y        X\n",
      "Path                            \n",
      "1     0.00000 x 0.94176  1.08000\n",
      "2                     -        -\n",
      "3     0.07000 x 0.94176  1.07000\n",
      "4     0.18000 x 0.94176  0.97000\n",
      "5                     -        -\n",
      "6     0.20000 x 0.94176  0.77000\n",
      "7     0.09000 x 0.94176  0.84000\n",
      "8                     -        -\n"
     ]
    }
   ],
   "source": [
    "# TIME = 2\n",
    "\n",
    "h2 = np.maximum(K - S[:, 2], 0.0) # put payoff\n",
    "# Are we In-the-Money? ie h2(i) = max(K - S(i, 2), 0) if h2(i) > 0 -> immediate exercise \n",
    "itm2_idx = np.where(h2 > 0)[0] # indeces of those non-zero payoffs\n",
    "\n",
    "# Continuation from t=3 to t=2\n",
    "Y3_disc = df * h3 # response value in regression; \n",
    "\n",
    "# Matrix for regression\n",
    "S2_itm = S[itm2_idx, 2]\n",
    "# Basis functions: 1, x, x^2 - as in paper\n",
    "X2 = np.vstack([np.ones_like(S2_itm), \n",
    "                S2_itm, \n",
    "                S2_itm**2\n",
    "                ]).T  # regression matrix X, col2\n",
    "#print(X2)\n",
    "Y2 = Y3_disc[itm2_idx] # response value in regression; discounted h3\n",
    "\n",
    "# Estimate regression coefficients betas b = [a0, b1, b2]\n",
    "beta2, *_ = np.linalg.lstsq(X2, Y2)\n",
    "#print(f\"beta2: \", beta2)\n",
    "print(\"Least squares formula at time 2:\")\n",
    "print(f\"E[Y|X] = {beta2[0]:.5f} + {beta2[1]:.5f}.x + {beta2[2]:.5f}.x^2\")\n",
    "\n",
    "V2 = np.zeros(n_paths) # allocate V2; \n",
    "for i in range(n_paths):\n",
    "    if i in itm2_idx:\n",
    "        s2 = S[i, 2]\n",
    "        cont_val = beta2[0] + beta2[1]*s2 + beta2[2]*(s2**2)\n",
    "        if h2[i] >= cont_val:\n",
    "            V2[i] = h2[i]            # exercise at t=2\n",
    "        else:\n",
    "            V2[i] = df * h3[i]       # continue -> discounted h3\n",
    "    else:\n",
    "        V2[i] = df * h3[i]           # out‐of‐money at t=2 -> continue\n",
    "\n",
    "actual_cf = np.zeros(n_paths)\n",
    "for i in range(n_paths):\n",
    "    if i in itm2_idx:\n",
    "        s2 = S[i, 2]\n",
    "        cont_val = beta2[0] + beta2[1]*s2 + beta2[2]*(s2**2)\n",
    "        if h2[i] >= cont_val:\n",
    "            actual_cf[i] = h2[i]\n",
    "        else:\n",
    "            actual_cf[i] = h3[i]\n",
    "    else:\n",
    "        actual_cf[i] = h3[i]\n",
    "\n",
    "# -----------------------------\n",
    "# Table 2: Regression at time 2\n",
    "# -----------------------------\n",
    "\"\"\"\n",
    "Y - corresponding discounted cash flows received at time 3 = Y3_disc; if the put is not exercised at time 2\n",
    "X - stock prices at time 2\n",
    "\"\"\"\n",
    "# DataFrame with blanks\n",
    "df_reg2 = pd.DataFrame({\n",
    "    \"Path\": np.arange(1, n_paths + 1),   \n",
    "    \"Y\": [\"-\" for _ in range(n_paths)], # fill empty rows\n",
    "    \"X\": [\"-\" for _ in range(n_paths)]\n",
    "}).set_index(\"Path\")\n",
    "# Fill in those in‐the‐money rows\n",
    "for i in itm2_idx:\n",
    "    df_reg2.at[i+1, \"Y\"] = f\"{h3[i]:.5f} x {df:.5f}\"\n",
    "    df_reg2.at[i+1, \"X\"] = f\"{S[i, 2]:.5f}\"\n",
    "print(\"\\nRegression at time 2\")\n",
    "print(df_reg2)\n"
   ]
  },
  {
   "cell_type": "code",
   "execution_count": 5,
   "id": "e0f1c0ac",
   "metadata": {},
   "outputs": [
    {
     "name": "stdout",
     "output_type": "stream",
     "text": [
      "Optimal early exercise decision at time 2\n",
      "     Exercise Continuation\n",
      "Path                      \n",
      "1     0.02000      0.03674\n",
      "2           -            -\n",
      "3     0.03000      0.04590\n",
      "4     0.13000      0.11753\n",
      "5           -            -\n",
      "6     0.33000      0.15197\n",
      "7     0.26000      0.15642\n",
      "8           -            -\n"
     ]
    }
   ],
   "source": [
    "# ------------------------------------------------\n",
    "# Table: Optimal early exercise decision at time 2\n",
    "# ------------------------------------------------\n",
    "paths = np.arange(1, n_paths + 1)\n",
    "\n",
    "df_dec2 = pd.DataFrame({\"Path\": paths,\n",
    "                        \"Exercise\": [\"-\"] * len(paths),\n",
    "                        \"Continuation\": [\"-\"] * len(paths)\n",
    "                        }).set_index(\"Path\")\n",
    "\n",
    "for i in itm2_idx:\n",
    "    # Immediate payoff if exercise at t=2: h2[i]\n",
    "    df_dec2.loc[i+1, \"Exercise\"] = f\"{h2[i]:.5f}\"\n",
    "    # Continuation: beta2[0] + beta2[1]*S2 + beta2[2]*S2^2\n",
    "    s2 = S[i, 2]\n",
    "    cont2 = beta2[0] + beta2[1]*s2 + beta2[2]*(s2**2)\n",
    "    df_dec2.loc[i+1, \"Continuation\"] = f\"{cont2:.5f}\"\n",
    "\n",
    "print(\"Optimal early exercise decision at time 2\")\n",
    "print(df_dec2)"
   ]
  },
  {
   "cell_type": "code",
   "execution_count": 6,
   "id": "059a17ee",
   "metadata": {},
   "outputs": [
    {
     "name": "stdout",
     "output_type": "stream",
     "text": [
      "Cash‐flow matrix at time 2:\n",
      "     t = 1     t = 2    t = 3\n",
      "Path                         \n",
      "1        -   0.00000  0.00000\n",
      "2        -   0.00000  0.00000\n",
      "3        -   0.00000  0.07000\n",
      "4        -  0.130000  0.00000\n",
      "5        -   0.00000  0.00000\n",
      "6        -  0.330000  0.00000\n",
      "7        -  0.260000  0.00000\n",
      "8        -   0.00000  0.00000\n"
     ]
    }
   ],
   "source": [
    "# -----------------------------------\n",
    "# Table 3: Cash-flow matrix at time 2\n",
    "# -----------------------------------\n",
    "paths = np.arange(1, n_paths + 1)\n",
    "df_cash2 = pd.DataFrame({\"Path\": paths,\n",
    "                        \"t = 1\": [\"-\"] * 8,   # no exercises at t=1 \n",
    "                        \"t = 2\": [\"\" for _ in range(8)],\n",
    "                        \"t = 3\": [\"\" for _ in range(8)],\n",
    "                        }).set_index(\"Path\")\n",
    "\n",
    "# Fill in undiscounted cashflows at t=2 or t=3, path by path:\n",
    "for i in range(n_paths):\n",
    "    if i in itm2_idx:\n",
    "        # continuation estimate at t=2 for path i\n",
    "        s2 = S[i, 2]\n",
    "        cont_val = beta2[0] + beta2[1]*s2 + beta2[2]*(s2**2)\n",
    "        \n",
    "        # if exercise at t=2:\n",
    "        if h2[i] >= cont_val:\n",
    "            df_cash2.loc[i+1, \"t = 2\"] = f\"{h2[i]:5f}\"\n",
    "            df_cash2.loc[i+1, \"t = 3\"] = f\"{0.00:.5f}\"\n",
    "        else:\n",
    "            # continue, collect h3 at t=3\n",
    "            df_cash2.loc[i+1, \"t = 2\"] = f\"{0.00:.5f}\" # fill 0s\n",
    "            df_cash2.loc[i+1, \"t = 3\"] = f\"{h3[i]:.5f}\"\n",
    "    else:\n",
    "        # out of the money at t=2 -> cashflow is 0 at t=2, pay h3 at t=3\n",
    "        df_cash2.loc[i+1, \"t = 2\"] = f\"{0.00:.5f}\"\n",
    "        df_cash2.loc[i+1, \"t = 3\"] = f\"{h3[i]:.5f}\"\n",
    "\n",
    "# Display the final table\n",
    "print(\"Cash‐flow matrix at time 2:\")\n",
    "print(df_cash2)"
   ]
  },
  {
   "cell_type": "code",
   "execution_count": 7,
   "id": "efea5215",
   "metadata": {},
   "outputs": [
    {
     "name": "stdout",
     "output_type": "stream",
     "text": [
      "Least‐squares formula at time 1:\n",
      "E[Y|X] = 2.03751 + -3.33544.x + 1.35646.x^2\n",
      "\n",
      "Regression at time 1\n",
      "                      Y        X\n",
      "Path                            \n",
      "1     0.00000 x 0.94176  1.09000\n",
      "2                     -        -\n",
      "3                     -        -\n",
      "4     0.13000 x 0.94176  0.93000\n",
      "5                     -        -\n",
      "6     0.33000 x 0.94176  0.76000\n",
      "7     0.26000 x 0.94176  0.92000\n",
      "8     0.00000 x 0.94176  0.88000\n"
     ]
    }
   ],
   "source": [
    "# TIME = 1\n",
    "\n",
    "# Compute h1 at t=1 and discount V2 back to t=1:\n",
    "h1 = np.maximum(K - S[:, 1], 0.0)    # immediate payoff at t=1\n",
    "Y2_disc = V2 * df                   # discounted V2 back to t=1\n",
    "\n",
    "# Identify which paths are in-the-money at t=1\n",
    "itm1_idx = np.where(h1 > 0)[0]\n",
    "\n",
    "# Build the regression matrix at t=1:  Y2_disc vs {1, S1, (S1)^2}\n",
    "X1 = np.vstack([\n",
    "    np.ones_like(S[itm1_idx, 1]),   # column of 1’s\n",
    "    S[itm1_idx, 1],                 # column of S(t=1)\n",
    "    S[itm1_idx, 1]**2               # column of S(t=1)^2\n",
    "]).T\n",
    "Y1 = Y2_disc[itm1_idx]\n",
    "\n",
    "beta1, *_ = np.linalg.lstsq(X1, Y1)\n",
    "# beta1 = [beta1[0], beta1[1], beta1[2]]\n",
    "# beta1 = np.array([2.038, -3.335, 1.356]) - appears as in paper they used 3 d.p.\n",
    "\n",
    "# -----------------------------\n",
    "# Table 4: “Regression at time 1”\n",
    "# -----------------------------\n",
    "paths = np.arange(1, n_paths + 1)\n",
    "df_reg1 = pd.DataFrame({\n",
    "    \"Path\": paths,\n",
    "    \"Y\":    [\"-\"] * n_paths,\n",
    "    \"X\":    [\"-\"] * n_paths\n",
    "}).set_index(\"Path\")\n",
    "#print(f\"h2:\", h2)\n",
    "for i in itm1_idx:\n",
    "    # Y = h2[i] × 0.94176 e.g. “0.13 × 0.94176”\n",
    "    df_reg1.loc[i+1, \"Y\"] = f\"{actual_cf[i]:.5f} x {df:.5f}\"\n",
    "    # X = S(t=1) at path i\n",
    "    df_reg1.loc[i+1, \"X\"] = f\"{S[i, 1]:.5f}\"\n",
    "\n",
    "    \n",
    "print(\"Least‐squares formula at time 1:\")\n",
    "print(f\"E[Y|X] = {beta1[0]:.5f} + {beta1[1]:.5f}.x + {beta1[2]:.5f}.x^2\")\n",
    "    \n",
    "print(\"\\nRegression at time 1\")\n",
    "print(df_reg1)"
   ]
  },
  {
   "cell_type": "code",
   "execution_count": 8,
   "id": "d87c6566",
   "metadata": {},
   "outputs": [
    {
     "name": "stdout",
     "output_type": "stream",
     "text": [
      "Optimal early exercise decision at time 1\n",
      "     Exercise Continuation\n",
      "Path                      \n",
      "1     0.01000      0.01349\n",
      "2           -            -\n",
      "3           -            -\n",
      "4     0.17000      0.10875\n",
      "5           -            -\n",
      "6     0.34000      0.28606\n",
      "7     0.18000      0.11701\n",
      "8     0.22000      0.15276\n"
     ]
    }
   ],
   "source": [
    "# Table 5: “Optimal early exercise decision at time 1”\n",
    "\n",
    "df_dec1 = pd.DataFrame({\n",
    "    \"Path\": paths,\n",
    "    \"Exercise\":     [\"-\" for _ in range(n_paths)],\n",
    "    \"Continuation\": [\"-\" for _ in range(n_paths)]\n",
    "}).set_index(\"Path\")\n",
    "\n",
    "for i in itm1_idx:\n",
    "    # Compute continuation estimate at t=1:\n",
    "    x1 = S[i, 1]\n",
    "    cont1 = beta1[0] + beta1[1]*x1 + beta1[2]*(x1**2)\n",
    "    # Fill “Exercise” = h1[i]  \n",
    "    df_dec1.loc[i+1, \"Exercise\"] = f\"{h1[i]:.5f}\"\n",
    "    # Fill “Continuation” = cont1 \n",
    "    df_dec1.loc[i+1, \"Continuation\"] = f\"{cont1:.5f}\"\n",
    "    \n",
    "print(\"Optimal early exercise decision at time 1\")\n",
    "print(df_dec1)\n"
   ]
  },
  {
   "cell_type": "code",
   "execution_count": 9,
   "id": "ce50cd37",
   "metadata": {},
   "outputs": [
    {
     "name": "stdout",
     "output_type": "stream",
     "text": [
      "Stopping rule\n",
      "      t = 1  t = 2  t = 3\n",
      "Path                     \n",
      "1         0      0      0\n",
      "2         0      0      0\n",
      "3         0      0      1\n",
      "4         1      0      0\n",
      "5         0      0      0\n",
      "6         1      0      0\n",
      "7         1      0      0\n",
      "8         1      0      0\n"
     ]
    }
   ],
   "source": [
    "# Stopping time\n",
    "\n",
    "# Stopping means exercise\n",
    "# Determine stop1 (exercise at t=1) using exact continuation\n",
    "stop1 = np.zeros(n_paths, dtype=int)\n",
    "for i in itm1_idx:\n",
    "    s1 = S[i, 1]\n",
    "    cont1 = beta1[0] + beta1[1]*s1 + beta1[2]*(s1**2)\n",
    "    if h1[i] >= cont1:\n",
    "        stop1[i] = 1\n",
    "\n",
    "# Determine stop2 (exercise at t=2) for those which did not stop at t=1:\n",
    "stop2 = np.zeros(n_paths, dtype=int)\n",
    "for i in itm2_idx:\n",
    "    if stop1[i] == 0:\n",
    "        s2 = S[i, 2]\n",
    "        cont2 = beta2[0] + beta2[1]*s2 + beta2[2]*(s2**2)\n",
    "        if h2[i] >= cont2:\n",
    "            stop2[i] = 1\n",
    "\n",
    "# Determine stop3 (must stop at t=3 if not stopped earlier):\n",
    "stop3 = np.zeros(n_paths, dtype=int)\n",
    "for i in range(n_paths):\n",
    "    if stop1[i] == 0 and stop2[i] == 0 and h3[i] > 0:\n",
    "        stop3[i] = 1\n",
    "    else:\n",
    "        stop3[i] = 0\n",
    "\n",
    "# Build the DataFrame exactly as in the paper:\n",
    "paths = np.arange(1, n_paths+1)\n",
    "df_stop = pd.DataFrame({\n",
    "    \"Path\":  paths,\n",
    "    \"t = 1\": stop1,\n",
    "    \"t = 2\": stop2,\n",
    "    \"t = 3\": stop3\n",
    "}).set_index(\"Path\")\n",
    "\n",
    "print(\"Stopping rule\")\n",
    "print(df_stop)\n"
   ]
  },
  {
   "cell_type": "code",
   "execution_count": 10,
   "id": "33f9da0a",
   "metadata": {},
   "outputs": [
    {
     "name": "stdout",
     "output_type": "stream",
     "text": [
      "Option cash flow matrix\n",
      "        t = 1    t = 2    t = 3\n",
      "Path                           \n",
      "1     0.00000  0.00000  0.00000\n",
      "2     0.00000  0.00000  0.00000\n",
      "3     0.00000  0.00000  0.07000\n",
      "4     0.17000  0.00000  0.00000\n",
      "5     0.00000  0.00000  0.00000\n",
      "6     0.34000  0.00000  0.00000\n",
      "7     0.18000  0.00000  0.00000\n",
      "8     0.22000  0.00000  0.00000\n"
     ]
    }
   ],
   "source": [
    "# Option cash flow matrix\n",
    "paths = np.arange(1, n_paths+1) \n",
    "\n",
    "# Build a DataFrame with blanks for every (t=1, t=2, t=3) - fill later\n",
    "df_opt_cf = pd.DataFrame({\n",
    "    \"Path\":  paths,\n",
    "    \"t = 1\": [\"-\" for _ in range(n_paths)],\n",
    "    \"t = 2\": [\"-\" for _ in range(n_paths)],\n",
    "    \"t = 3\": [\"-\" for _ in range(n_paths)]\n",
    "}).set_index(\"Path\")\n",
    "\n",
    "for i in range(n_paths):\n",
    "    # If stop1[i]==1, we exercise at t=1\n",
    "    if stop1[i] == 1:\n",
    "        df_opt_cf.loc[i+1, \"t = 1\"] = f\"{h1[i]:.5f}\"\n",
    "        df_opt_cf.loc[i+1, \"t = 2\"] = f\"{0.00:.5f}\"\n",
    "        df_opt_cf.loc[i+1, \"t = 3\"] = f\"{0.00:.5f}\"\n",
    "    # Else if stop2[i]==1, we exercise at t=2\n",
    "    elif stop2[i] == 1:\n",
    "        df_opt_cf.loc[i+1, \"t = 1\"] = f\"{0.00:.5f}\"\n",
    "        df_opt_cf.loc[i+1, \"t = 2\"] = f\"{h2[i]:.5f}\"\n",
    "        df_opt_cf.loc[i+1, \"t = 3\"] = f\"{0.00:.5f}\"\n",
    "    # Else if stop3[i]==1, we exercise at t=3\n",
    "    elif stop3[i] == 1:\n",
    "        df_opt_cf.loc[i+1, \"t = 1\"] = f\"{0.00:.5f}\"\n",
    "        df_opt_cf.loc[i+1, \"t = 2\"] = f\"{0.00:.5f}\"\n",
    "        df_opt_cf.loc[i+1, \"t = 3\"] = f\"{h3[i]:.5f}\"\n",
    "    else:\n",
    "        # If a path never exercises (all stops zero), pay zero everywhere\n",
    "        df_opt_cf.loc[i+1, \"t = 1\"] = f\"{0.00:.5f}\"\n",
    "        df_opt_cf.loc[i+1, \"t = 2\"] = f\"{0.00:.5f}\"\n",
    "        df_opt_cf.loc[i+1, \"t = 3\"] = f\"{0.00:.5f}\"\n",
    "\n",
    "print(\"Option cash flow matrix\")\n",
    "print(df_opt_cf)\n"
   ]
  },
  {
   "cell_type": "code",
   "execution_count": 11,
   "id": "7d395b49",
   "metadata": {},
   "outputs": [
    {
     "name": "stdout",
     "output_type": "stream",
     "text": [
      "American put price = 0.11443\n",
      "European put price = 0.05638\n",
      "Early exercise premium = 0.05805\n"
     ]
    }
   ],
   "source": [
    "# Pricing AM-option\n",
    "\n",
    "discounted_values = np.zeros(n_paths)\n",
    "# We need to go path-by-path\n",
    "for i in range(n_paths):\n",
    "    # Determine at which time t* this i-th path exercises\n",
    "    if stop1[i] == 1:\n",
    "        t_star = 1\n",
    "        cf = h1[i]\n",
    "    elif stop2[i] == 1:\n",
    "        t_star = 2\n",
    "        cf = h2[i]\n",
    "    elif stop3[i] == 1:\n",
    "        t_star = 3\n",
    "        cf = h3[i]\n",
    "    else:\n",
    "        # path never exercises, so CF = 0\n",
    "        t_star = None\n",
    "        cf = 0.0\n",
    "\n",
    "    # Discount that single cash flow back to time zero\n",
    "    if t_star is not None:\n",
    "        discounted_values[i] = cf * np.exp(-r * t_star)\n",
    "    else:\n",
    "        discounted_values[i] = 0.0\n",
    "\n",
    "\n",
    "\"\"\" From the paper: option can now be valued by discounting each cash\n",
    "flow in the option cash flow matrix back to time zero, and averaging over all paths.\n",
    "For EU: value of .0564 for the European put obtained \n",
    "        by discounting back the cash flows at time 3 from the first cash flow matrix.\n",
    "            - So, also the EU-put is valued a some kind of of MC-average? So, no closed form BS price.\n",
    "\"\"\"\n",
    "# American‐put price is avg of discounted values\n",
    "american_put_price = np.mean(discounted_values)\n",
    "# EU-put\n",
    "# path-by-path: h3[i] = max(K - S(i, 3), 0)\n",
    "# PV = e^{-3*r} 1/n sum(h3[i])\n",
    "# Discount factor from t=3 back to 0:\n",
    "df3 = np.exp(-r * 3)\n",
    "# Compute the European‐put price as the average of (df3 * h3):\n",
    "european_put_price1 = np.mean(h3 * df3) # matches the paper 0.0564\n",
    "\n",
    "print(f\"American put price = {american_put_price:.5f}\")\n",
    "print(f\"European put price = {european_put_price1:.5f}\")\n",
    "print(f\"Early exercise premium = {american_put_price - european_put_price1:.5f}\")"
   ]
  },
  {
   "cell_type": "markdown",
   "id": "ec9a00e9",
   "metadata": {},
   "source": [
    "## Least-Squares Monte Carlo\n",
    "Now, instead of considering the fixed paths, we will generate the paths by Monte Carlo under the standard Geometric Brownian motion, $$\\mathrm{d}S_t = \\mu S_t \\mathrm{d}t + \\sigma S_t \\mathrm{d}W_t,$$ where $S_t$ - stock price, $W_t$ - standard Brownian motion. \n",
    "\n",
    "First, we will consider the exact price given by Black-Scholes model and simulate the paths under GBM.\n",
    "\n",
    "Second, we will develop LSMC-pricer function using the Laguerre polynomials as implemented in the paper."
   ]
  },
  {
   "cell_type": "code",
   "execution_count": 12,
   "id": "3ccccc4a",
   "metadata": {},
   "outputs": [],
   "source": [
    "# Exact price - Black-Scholes formula\n",
    "def bs_put_price(S0, K, r, sigma, T):\n",
    "    d1 = ( np.log(S0/K) + (r + 0.5*sigma**2) * T ) / (sigma * np.sqrt(T))\n",
    "    d2 = d1 - sigma * np.sqrt(T)\n",
    "    bs_put = -1 * norm.cdf(-d1)*S0 + norm.cdf(-d2)*K*np.exp(-r*T)\n",
    "    return bs_put"
   ]
  },
  {
   "cell_type": "code",
   "execution_count": 13,
   "id": "6cffd9d9",
   "metadata": {},
   "outputs": [],
   "source": [
    "# MC paths generator with antithetic sampling\n",
    "def simulate_gbm_paths(S0, r, sigma, T, n_steps, n_paths):\n",
    "    \"\"\" Antithetic: We input 50,000 paths and we get 100,000 paths \"\"\"\n",
    "    np.random.seed(1) \n",
    "    dt = T / n_steps\n",
    "\n",
    "    # Generate randoms for half of n_paths\n",
    "    Z = np.random.randn(n_paths, n_steps)\n",
    "    \n",
    "    # Create vector of paths and antithetic paths\n",
    "    Z_all = np.vstack([Z, -Z])  \n",
    "    \n",
    "    # Initialize paths\n",
    "    n_total = 2 * n_paths\n",
    "    S = np.zeros((n_total, n_steps + 1))\n",
    "    S[:, 0] = S0\n",
    "    \n",
    "    # Simulate paths\n",
    "    for t in range(n_steps):\n",
    "        S[:, t+1] = S[:, t] * np.exp((r - 0.5*sigma**2)*dt + sigma*np.sqrt(dt)*Z_all[:, t])\n",
    "    \n",
    "    return S\n"
   ]
  },
  {
   "cell_type": "markdown",
   "id": "662d89fb",
   "metadata": {},
   "source": [
    "As considered in the paper, we define the Laguerre polynomials which we will use as basis functions for the linear regression."
   ]
  },
  {
   "cell_type": "code",
   "execution_count": 14,
   "id": "ff62e079",
   "metadata": {},
   "outputs": [],
   "source": [
    "def laguerre_polynomials(x, K):\n",
    "    \"\"\" Calculate first three Laguerre polynomials\n",
    "    x_scaled as x / K - to account for moneyness \"\"\"\n",
    "    # Scale x \n",
    "    x_scaled = x / K  # Normalize by strike price \n",
    "    \n",
    "    # Calculate e^(-x/2) \n",
    "    exp_term = np.exp(-x_scaled/2)\n",
    "    \n",
    "    # Laguerre polynomials\n",
    "    L0 = exp_term\n",
    "    L1 = exp_term * (1 - x_scaled)\n",
    "    L2 = exp_term * (1 - 2*x_scaled + x_scaled**2/2)\n",
    "    \n",
    "    return L0, L1, L2"
   ]
  },
  {
   "cell_type": "markdown",
   "id": "2b288d44",
   "metadata": {},
   "source": [
    "Discuss the plan of attack developing LSMC-pricer, what is the intuition, how can we visualise this?"
   ]
  },
  {
   "cell_type": "code",
   "execution_count": 15,
   "id": "737ee46d",
   "metadata": {},
   "outputs": [],
   "source": [
    "def lsmc_american_put(S, K, r, T, n_steps):\n",
    "    \"\"\" Least Squares Monte Carlo for American Put Option\n",
    "    Similar approach as in Q1, but now we don't view it as tree/lattice \n",
    "    but a whole random path at different times t; ie more cts\n",
    "    - going backwards in time, ie from terminal time (known payoff) to t=0.\n",
    "    - we use regression to estimate the continuation value \n",
    "    - early exercise decision\n",
    "    \"\"\"\n",
    "    n_paths = S.shape[0]\n",
    "    dt = T / n_steps\n",
    "    df = np.exp(-r * dt)\n",
    "    \n",
    "    # Initialize cash flow matrix\n",
    "    cash_flows = np.zeros((n_paths, n_steps + 1))\n",
    "    \n",
    "    # Terminal payoff\n",
    "    cash_flows[:, -1] = np.maximum(K - S[:, -1], 0)\n",
    "    \n",
    "    # Backward induction\n",
    "    for t in range(n_steps - 1, 0, -1):\n",
    "        # Current payoff if exercised\n",
    "        payoff = np.maximum(K - S[:, t], 0)\n",
    "        \n",
    "        # Find in-the-money paths\n",
    "        itm = payoff > 0 # will use as index for tracking\n",
    "        \n",
    "        if np.sum(itm) > 0:\n",
    "            # Get stock prices for ITM paths\n",
    "            X = S[itm, t]\n",
    "            \n",
    "            # Calculate basis functions according to paper\n",
    "            L0, L1, L2 = laguerre_polynomials(X, K)\n",
    "            \n",
    "            # Data matrix: constant (intercept) + 3 Laguerre polynomials\n",
    "            A = np.column_stack([np.ones_like(X), L0, L1, L2])\n",
    "            \n",
    "            # Calculate discounted future cash flows Y - response variable\n",
    "                # Continuation value we are want to estimate\n",
    "            Y = np.zeros(n_paths) #\n",
    "            for s in range(t+1, n_steps+1):\n",
    "                Y += cash_flows[:, s] * df**(s-t) \n",
    "            Y = Y[itm]\n",
    "            \n",
    "            # Regression to estimate continuation value\n",
    "            beta = np.linalg.lstsq(A, Y)[0] # prediction\n",
    "            #print(beta)\n",
    "            cont_value = A @ beta\n",
    "            #print(cont_value)\n",
    "            \n",
    "            # Exercise decision: exercise if immediate payoff >= continuation value\n",
    "            exercise = payoff[itm] >= cont_value\n",
    "            \n",
    "            # Update cash flows\n",
    "            itm_indices = np.where(itm)[0]\n",
    "            for i, should_exercise in enumerate(exercise):\n",
    "                idx = itm_indices[i]\n",
    "                if should_exercise:\n",
    "                    cash_flows[idx, t] = payoff[idx]\n",
    "                    # Zero out future cash flows\n",
    "                    cash_flows[idx, t+1:] = 0\n",
    "    \n",
    "    # for each path, find time when of exercise and discout it back to t=0\n",
    "    option_values = np.zeros(n_paths)\n",
    "    for i in range(n_paths):\n",
    "        # Find all times when this option has positive cf\n",
    "        exercise_times = np.where(cash_flows[i, :] > 0)[0]\n",
    "\n",
    "        if len(exercise_times) > 0:\n",
    "            t_exercise = exercise_times[0] # per path 1 exercise\n",
    "            option_values[i] = cash_flows[i, t_exercise] * df**t_exercise # dicsouting it to t=0\n",
    "    \n",
    "    # Return mean value (since path dependent) and standard error\n",
    "    mean_value = np.mean(option_values) # option PV \n",
    "    std_error = np.std(option_values) / np.sqrt(n_paths)\n",
    "    \n",
    "    return mean_value, std_error\n"
   ]
  },
  {
   "cell_type": "markdown",
   "id": "78fef964",
   "metadata": {},
   "source": [
    "Combining the above, we are able to replicate the Table 1 in the paper."
   ]
  },
  {
   "cell_type": "code",
   "execution_count": 16,
   "id": "7e61032e",
   "metadata": {},
   "outputs": [],
   "source": [
    "def replicate_table1_row(S0, sigma, T, K=40, r=0.06, n_paths=50000, n_steps_per_year=50): # exercisable 50x per year = n_steps\n",
    "    \"\"\" Replicate one row of Table 1 \n",
    "    Goal is to replicate the table row-by-row and compute the required cols \"\"\"\n",
    "    np.random.seed(1) # We fix the seed for each row, so its the same\n",
    "    \n",
    "    # Number of time steps\n",
    "    n_steps = int(T * n_steps_per_year) # T is either 1 or 2, so 50 or 100\n",
    "    \n",
    "    # Simulate paths with antithetic variates\n",
    "    S = simulate_gbm_paths(S0, r, sigma, T, n_steps, n_paths)\n",
    "\n",
    "    # Calculate American put value using LSMC\n",
    "    american_value, std_error = lsmc_american_put(S, K, r, T, n_steps)\n",
    "    \n",
    "    # Calculate EU put value (closed form)\n",
    "    european_value = bs_put_price(S0, K, r, sigma, T)\n",
    "    \n",
    "    # Early exercise value\n",
    "    early_exercise_value = american_value - european_value\n",
    "    \n",
    "    return {\n",
    "        'American': american_value,\n",
    "        'Std_Error': std_error,\n",
    "        'European': european_value,\n",
    "        'Early_Exercise': early_exercise_value\n",
    "    }\n"
   ]
  },
  {
   "cell_type": "code",
   "execution_count": 17,
   "id": "20217667",
   "metadata": {},
   "outputs": [
    {
     "name": "stdout",
     "output_type": "stream",
     "text": [
      "\n",
      "Replicating Table 1\n",
      "============================================================\n",
      "   S  vol   T | American   (s.e.) | European | Early Ex\n",
      "------------------------------------------------------------\n"
     ]
    },
    {
     "name": "stdout",
     "output_type": "stream",
     "text": [
      "  36  0.20   1     4.4773 (0.0092)     3.8443     0.6330   \n"
     ]
    },
    {
     "name": "stdout",
     "output_type": "stream",
     "text": [
      "  36  0.20   2     4.8323 (0.0110)     3.7630     1.0693   \n"
     ]
    },
    {
     "name": "stdout",
     "output_type": "stream",
     "text": [
      "  36  0.40   1     7.0876 (0.0190)     6.7114     0.3762   \n"
     ]
    },
    {
     "name": "stdout",
     "output_type": "stream",
     "text": [
      "  36  0.40   2     8.4976 (0.0225)     7.7000     0.7976   \n"
     ]
    },
    {
     "name": "stdout",
     "output_type": "stream",
     "text": [
      "  38  0.20   1     3.2473 (0.0094)     2.8519     0.3953   \n"
     ]
    },
    {
     "name": "stdout",
     "output_type": "stream",
     "text": [
      "  38  0.20   2     3.7342 (0.0110)     2.9906     0.7437   \n"
     ]
    },
    {
     "name": "stdout",
     "output_type": "stream",
     "text": [
      "  38  0.40   1     6.1405 (0.0187)     5.8343     0.3061   \n"
     ]
    },
    {
     "name": "stdout",
     "output_type": "stream",
     "text": [
      "  38  0.40   2     7.6557 (0.0224)     6.9788     0.6769   \n"
     ]
    },
    {
     "name": "stdout",
     "output_type": "stream",
     "text": [
      "  40  0.20   1     2.3081 (0.0087)     2.0664     0.2417   \n"
     ]
    },
    {
     "name": "stdout",
     "output_type": "stream",
     "text": [
      "  40  0.20   2     2.8805 (0.0106)     2.3559     0.5246   \n"
     ]
    },
    {
     "name": "stdout",
     "output_type": "stream",
     "text": [
      "  40  0.40   1     5.3108 (0.0181)     5.0596     0.2512   \n"
     ]
    },
    {
     "name": "stdout",
     "output_type": "stream",
     "text": [
      "  40  0.40   2     6.9127 (0.0219)     6.3260     0.5867   \n"
     ]
    },
    {
     "name": "stdout",
     "output_type": "stream",
     "text": [
      "  42  0.20   1     1.6168 (0.0077)     1.4645     0.1523   \n"
     ]
    },
    {
     "name": "stdout",
     "output_type": "stream",
     "text": [
      "  42  0.20   2     2.2044 (0.0097)     1.8414     0.3630   \n"
     ]
    },
    {
     "name": "stdout",
     "output_type": "stream",
     "text": [
      "  42  0.40   1     4.5887 (0.0173)     4.3787     0.2100   \n"
     ]
    },
    {
     "name": "stdout",
     "output_type": "stream",
     "text": [
      "  42  0.40   2     6.2382 (0.0213)     5.7356     0.5026   \n"
     ]
    },
    {
     "name": "stdout",
     "output_type": "stream",
     "text": [
      "  44  0.20   1     1.1154 (0.0066)     1.0169     0.0985   \n"
     ]
    },
    {
     "name": "stdout",
     "output_type": "stream",
     "text": [
      "  44  0.20   2     1.6907 (0.0087)     1.4292     0.2615   \n"
     ]
    },
    {
     "name": "stdout",
     "output_type": "stream",
     "text": [
      "  44  0.40   1     3.9486 (0.0164)     3.7828     0.1658   \n"
     ]
    },
    {
     "name": "stdout",
     "output_type": "stream",
     "text": [
      "  44  0.40   2     5.6410 (0.0208)     5.2020     0.4391   \n"
     ]
    }
   ],
   "source": [
    "# Replicate Table 1\n",
    "if __name__ == \"__main__\":\n",
    "    # We replicate specific rows from Table 1\n",
    "    table_data = []\n",
    "\n",
    "    # Define parameters S, \\sigma, T rows in Table 1\n",
    "    params = [\n",
    "        (36, 0.20, 1), (36, 0.20, 2), (36, 0.40, 1), (36, 0.40, 2),\n",
    "        (38, 0.20, 1), (38, 0.20, 2), (38, 0.40, 1), (38, 0.40, 2),\n",
    "        (40, 0.20, 1), (40, 0.20, 2), (40, 0.40, 1), (40, 0.40, 2),\n",
    "        (42, 0.20, 1), (42, 0.20, 2), (42, 0.40, 1), (42, 0.40, 2),\n",
    "        (44, 0.20, 1), (44, 0.20, 2), (44, 0.40, 1), (44, 0.40, 2)\n",
    "    ]\n",
    "    # Printing the table row-by-row; \n",
    "    print(\"\\nReplicating Table 1\")\n",
    "    print(\"=\"*60)\n",
    "    print(f\"{'S':>4} {'vol':>4} {'T':>3} | {'American':>8} {'(s.e.)':>8} | {'European':>8} | {'Early Ex':>8}\")\n",
    "    print(\"-\"*60)\n",
    "\n",
    "    for i, (S0, sigma, T) in enumerate(params):\n",
    "        result = replicate_table1_row(S0, sigma, T)\n",
    "        \n",
    "        # Display with 3 decimal places for values, 3 for standard errors\n",
    "        print(f\"{S0:>4} {sigma:>5.2f} {T:>3}   \"\n",
    "            f\"{result['American']:>8.4f} ({result['Std_Error']:>5.4f})   \"\n",
    "            f\"{result['European']:>8.4f}   \"\n",
    "            f\"{result['Early_Exercise']:>8.4f}   \")\n",
    "        \n",
    "        table_data.append({\n",
    "            'S': S0,\n",
    "            'sigma': sigma,\n",
    "            'T': T,\n",
    "            'Simulated_American': result['American'],\n",
    "            'SE': result['Std_Error'],\n",
    "            'European': result['European'],\n",
    "            'Early_Exercise_Value': result['Early_Exercise']\n",
    "        })\n",
    "\n",
    "\n",
    "    # Store the data\n",
    "    df_results = pd.DataFrame(table_data)\n",
    "    #print(df_results)\n"
   ]
  }
 ],
 "metadata": {
  "kernelspec": {
   "display_name": "Python 3.10.6 ('base')",
   "language": "python",
   "name": "python3"
  },
  "language_info": {
   "codemirror_mode": {
    "name": "ipython",
    "version": 3
   },
   "file_extension": ".py",
   "mimetype": "text/x-python",
   "name": "python",
   "nbconvert_exporter": "python",
   "pygments_lexer": "ipython3",
   "version": "3.10.6"
  },
  "vscode": {
   "interpreter": {
    "hash": "a7b443fdbaa59852a52c006d41608c7501bf7a8d16d7082e9e024fccf0099928"
   }
  }
 },
 "nbformat": 4,
 "nbformat_minor": 5
}